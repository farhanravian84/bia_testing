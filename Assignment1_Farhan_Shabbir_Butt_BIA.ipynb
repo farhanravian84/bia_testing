{
 "cells": [
  {
   "cell_type": "markdown",
   "id": "37b6965d-aca9-4df5-8855-b5dc2ae31c2b",
   "metadata": {},
   "source": [
    "**Assignment 1--15th December 2024--Farhan Shabbir Butt**  \n",
    " **Question 1**  \n",
    " Write a function of name incr_val that takes 2 parameters\n",
    " 1. Start\n",
    " 2. End  \n",
    " append each element in the list and the element should be multiplied by 3 and addition of 1 to it\n",
    " list name should be bia_lst_two ,return this bia_lst_two"
   ]
  },
  {
   "cell_type": "code",
   "execution_count": 2,
   "id": "c3daaf50-0e00-4a1a-b811-55d76559e880",
   "metadata": {},
   "outputs": [
    {
     "name": "stdout",
     "output_type": "stream",
     "text": [
      "[4, 7, 10, 13, 16, 19, 22, 25, 28, 31]\n"
     ]
    }
   ],
   "source": [
    "def incr_val(start,end):\n",
    "    bia_lst_two=[]\n",
    "    for i in range(start,end+1):\n",
    "        bia_lst_two.append(i*3+1)\n",
    "    return bia_lst_two\n",
    "list_oper=incr_val(1,10)\n",
    "print(list_oper)\n",
    "    \n",
    "    "
   ]
  },
  {
   "cell_type": "markdown",
   "id": "5b352a8a-9944-4559-8524-b8021a8da6a9",
   "metadata": {},
   "source": [
    "**Question 2**  \n",
    "Write a function of name odd_func that takes 2 parameters  \n",
    " 3. Start  \n",
    " 4. End  \n",
    " append the element that is odd in the list bia_odd_lst and return this list"
   ]
  },
  {
   "cell_type": "code",
   "execution_count": 3,
   "id": "a9523383-dfdb-490a-b9f2-223279253d5c",
   "metadata": {},
   "outputs": [
    {
     "name": "stdout",
     "output_type": "stream",
     "text": [
      "[1, 3, 5, 7, 9]\n"
     ]
    }
   ],
   "source": [
    "def odd_func(start,end):\n",
    "    bia_odd_lst=[]\n",
    "    for i in range(start,end+1):\n",
    "        if i%2!=0:\n",
    "            bia_odd_lst.append(i)\n",
    "    return bia_odd_lst\n",
    "odd_lst=odd_func(1,10)\n",
    "print(odd_lst)"
   ]
  },
  {
   "cell_type": "markdown",
   "id": "8915d55f-0787-4bcc-96d0-a9f31763cbb0",
   "metadata": {},
   "source": [
    " **Question 3**  \n",
    " Write a function is_even,that takes a 1 parameter \n",
    " 1. No_val  \n",
    " Print if the number is even or not  "
   ]
  },
  {
   "cell_type": "code",
   "execution_count": 44,
   "id": "b23a773f-89e5-4658-a9d1-cd044db3c48e",
   "metadata": {},
   "outputs": [
    {
     "name": "stdout",
     "output_type": "stream",
     "text": [
      "Number is even\n"
     ]
    }
   ],
   "source": [
    "def is_even(no_val):\n",
    "    if no_val%2==0:\n",
    "        print(\"Number is even\")\n",
    "    else:\n",
    "        print(\"Number is not even\")\n",
    "is_even(4)"
   ]
  },
  {
   "cell_type": "markdown",
   "id": "47ba6a01-097d-4d05-83bb-a29548a645bd",
   "metadata": {},
   "source": [
    "**Question 4**  \n",
    " Write a function is_odd,that takes a 1 parameter  \n",
    " 2. No_val  \n",
    " Print if the number is odd or not  "
   ]
  },
  {
   "cell_type": "code",
   "execution_count": 45,
   "id": "09b702bb-75d4-4439-a248-8b4034d8701c",
   "metadata": {},
   "outputs": [
    {
     "name": "stdout",
     "output_type": "stream",
     "text": [
      "Number is odd\n"
     ]
    }
   ],
   "source": [
    "def is_odd(no_val):\n",
    "    if no_val%2!=0:\n",
    "        print(\"Number is odd\")\n",
    "    else:\n",
    "        print(\"Number is not odd\")\n",
    "is_odd(3)"
   ]
  },
  {
   "cell_type": "markdown",
   "id": "4bdf4591-f85c-4e40-b0f6-633b4c12db14",
   "metadata": {},
   "source": [
    "**Question 5**  \n",
    " Write a function is_prime,that takes a 1 parameter  \n",
    " 3. No_val  \n",
    " Print if the number is prime or not  "
   ]
  },
  {
   "cell_type": "code",
   "execution_count": 46,
   "id": "d55a66fc-e4fa-4b3b-a0f3-46f1f4587cac",
   "metadata": {},
   "outputs": [
    {
     "name": "stdout",
     "output_type": "stream",
     "text": [
      "11 is a prime number\n"
     ]
    }
   ],
   "source": [
    "def is_prime(no_val):\n",
    "    count_div=0\n",
    "    if no_val<=1:\n",
    "        print(f\"{no_val} is not a prime number\")\n",
    "    else:\n",
    "        for i in range(1,no_val+1):\n",
    "            if no_val%i==0:\n",
    "                count_div+=1                \n",
    "        if count_div>2:\n",
    "            print(f\"{no_val} is not a prime number\")\n",
    "        else:\n",
    "            print(f\"{no_val} is a prime number\")\n",
    "is_prime(11)\n",
    "        "
   ]
  },
  {
   "cell_type": "markdown",
   "id": "d115a2cf-ff36-4606-bb7f-ae21297191ba",
   "metadata": {},
   "source": [
    " **Question 6**  \n",
    " Write a function fact,that takes a 1 parameter  \n",
    " 4. No_val  \n",
    " And calculates the factorial of the number  "
   ]
  },
  {
   "cell_type": "code",
   "execution_count": 99,
   "id": "37257dd0-c721-4ff4-9a4e-f23f0408fb6f",
   "metadata": {},
   "outputs": [
    {
     "name": "stdout",
     "output_type": "stream",
     "text": [
      "Factorial of 7 is 5040.\n"
     ]
    }
   ],
   "source": [
    "def fact(no_val):\n",
    "    fact=1\n",
    "    if no_val<=1:\n",
    "        print(f\"Factorial of {no_val} is 1.\")\n",
    "    else:\n",
    "        for i in range(no_val,1,-2):\n",
    "            fact=fact*(i*(i-1))\n",
    "        print(f\"Factorial of {no_val} is {fact}.\")\n",
    "fact(7)\n",
    "        \n",
    "    "
   ]
  },
  {
   "cell_type": "markdown",
   "id": "e5af79c7-7405-47e8-8659-30c7bcb90d55",
   "metadata": {},
   "source": [
    "**Question 7**  \n",
    " Write a function area_res , that takes length and width  \n",
    " 1. Length  \n",
    "2. width  \n",
    " And calculates the area of rectangle and return the area  "
   ]
  },
  {
   "cell_type": "code",
   "execution_count": 101,
   "id": "6a1c0c03-0b2c-445c-b7f2-fc36b53e35a6",
   "metadata": {},
   "outputs": [
    {
     "data": {
      "text/plain": [
       "12"
      ]
     },
     "execution_count": 101,
     "metadata": {},
     "output_type": "execute_result"
    }
   ],
   "source": [
    "def area_res(length,width):\n",
    "    area=length*width\n",
    "    return area\n",
    "area_res(3,4)"
   ]
  },
  {
   "cell_type": "markdown",
   "id": "e0a4cf44-0928-4a7a-92eb-7ebe853bd9bf",
   "metadata": {},
   "source": [
    "**Question 8**  \n",
    " Write a lambda function that sums two numbers"
   ]
  },
  {
   "cell_type": "code",
   "execution_count": 104,
   "id": "989ce9e9-2aa0-4ee0-b191-033428fac919",
   "metadata": {},
   "outputs": [
    {
     "data": {
      "text/plain": [
       "10"
      ]
     },
     "execution_count": 104,
     "metadata": {},
     "output_type": "execute_result"
    }
   ],
   "source": [
    "add=lambda a,b:a+b\n",
    "add(5,5)"
   ]
  },
  {
   "cell_type": "markdown",
   "id": "88318526-0419-47fa-aec8-347e51082e4a",
   "metadata": {},
   "source": [
    "**Question 9**  \n",
    " Write a lambda function that multiplies two numbers"
   ]
  },
  {
   "cell_type": "code",
   "execution_count": 105,
   "id": "e9fa2742-58fc-44c2-8b48-15f5a3bf5986",
   "metadata": {},
   "outputs": [
    {
     "data": {
      "text/plain": [
       "25"
      ]
     },
     "execution_count": 105,
     "metadata": {},
     "output_type": "execute_result"
    }
   ],
   "source": [
    "mul=lambda a,b:a*b\n",
    "mul(5,5)"
   ]
  },
  {
   "cell_type": "markdown",
   "id": "0e6b9e3f-6868-4414-8354-f26726c976ae",
   "metadata": {},
   "source": [
    "**Question 10**  \n",
    " Write a function,that takes a dictionary and a key,if that key exists in that dictionary return the\n",
    " value otherwise return \"Key does not exist\""
   ]
  },
  {
   "cell_type": "code",
   "execution_count": 118,
   "id": "97714074-bb7f-47a9-a7dd-b9f566ae0774",
   "metadata": {},
   "outputs": [
    {
     "name": "stdout",
     "output_type": "stream",
     "text": [
      "Key does not exist\n"
     ]
    }
   ],
   "source": [
    "def dict_input(dict,key_input):\n",
    "    for key in dict:\n",
    "        if key==key_input:\n",
    "            return dict[key]\n",
    "    else:\n",
    "        return print(\"Key does not exist\")\n",
    "dict_test={\"name\":\"Farhan\",\"nationality\":\"Pakistani\",\"national_language\":\"Urdu\"}\n",
    "dict_input(dict_test,\"age\")"
   ]
  },
  {
   "cell_type": "markdown",
   "id": "f9bbc5cd-3738-4ef5-a3a0-9ccbaa0c5ef4",
   "metadata": {},
   "source": [
    "**Question 11**  \n",
    " Write a function,that takes a dictionary and a key(age) ,if that key exists in that dictionary returns\n",
    " the value by multiplying it by 2 other wise return \"Key does not exists\""
   ]
  },
  {
   "cell_type": "code",
   "execution_count": 122,
   "id": "56d01521-77fd-4ad8-812c-caa92b6c1c97",
   "metadata": {},
   "outputs": [
    {
     "data": {
      "text/plain": [
       "80"
      ]
     },
     "execution_count": 122,
     "metadata": {},
     "output_type": "execute_result"
    }
   ],
   "source": [
    "def dict_input(dict,key_input):\n",
    "    for key in dict:\n",
    "        if key==key_input:\n",
    "            return dict[key]*2\n",
    "    else:\n",
    "        return print(\"Key does not exist\")\n",
    "dict_test={\"name\":\"Farhan\",\"nationality\":\"Pakistani\",\"national_language\":\"Urdu\",\"age\":40}\n",
    "dict_input(dict_test,\"age\")"
   ]
  },
  {
   "cell_type": "markdown",
   "id": "8742236a-2ac3-4c45-8668-cb6151b85f5b",
   "metadata": {},
   "source": [
    "**Question 12**  \n",
    "Write a function,that takes a dictionary ,and take all its values and appends in a list and return a\n",
    "list"
   ]
  },
  {
   "cell_type": "code",
   "execution_count": 125,
   "id": "8c647543-ae09-4e77-ac7e-2092057a2c95",
   "metadata": {},
   "outputs": [
    {
     "data": {
      "text/plain": [
       "[1, 2, 3, 4, 5]"
      ]
     },
     "execution_count": 125,
     "metadata": {},
     "output_type": "execute_result"
    }
   ],
   "source": [
    "\n",
    "def dict_list(dict):\n",
    "    list_output=[]\n",
    "    for key in dict:\n",
    "        list_output.append(dict[key])\n",
    "    return list_output\n",
    "\n",
    "dict_test2={\"One\":1,\"Two\":2,\"Three\":3,\"Four\":4,\"Five\":5}\n",
    "dict_list(dict_test2)"
   ]
  },
  {
   "cell_type": "markdown",
   "id": "1596440c-1c04-4b2e-af8a-1a0ea3d02b15",
   "metadata": {},
   "source": [
    "**Question 13**  \n",
    " Write a function,that takes a dataframe and column , if that column exists return the entire\n",
    " column else return no such"
   ]
  },
  {
   "cell_type": "code",
   "execution_count": 151,
   "id": "b4d374fe-7c78-43b0-aab2-d733b35f711b",
   "metadata": {},
   "outputs": [
    {
     "data": {
      "text/html": [
       "<div>\n",
       "<style scoped>\n",
       "    .dataframe tbody tr th:only-of-type {\n",
       "        vertical-align: middle;\n",
       "    }\n",
       "\n",
       "    .dataframe tbody tr th {\n",
       "        vertical-align: top;\n",
       "    }\n",
       "\n",
       "    .dataframe thead th {\n",
       "        text-align: right;\n",
       "    }\n",
       "</style>\n",
       "<table border=\"1\" class=\"dataframe\">\n",
       "  <thead>\n",
       "    <tr style=\"text-align: right;\">\n",
       "      <th></th>\n",
       "      <th>name</th>\n",
       "    </tr>\n",
       "  </thead>\n",
       "  <tbody>\n",
       "    <tr>\n",
       "      <th>0</th>\n",
       "      <td>Farhan</td>\n",
       "    </tr>\n",
       "    <tr>\n",
       "      <th>1</th>\n",
       "      <td>Alice</td>\n",
       "    </tr>\n",
       "    <tr>\n",
       "      <th>2</th>\n",
       "      <td>Bob</td>\n",
       "    </tr>\n",
       "    <tr>\n",
       "      <th>3</th>\n",
       "      <td>John</td>\n",
       "    </tr>\n",
       "  </tbody>\n",
       "</table>\n",
       "</div>"
      ],
      "text/plain": [
       "     name\n",
       "0  Farhan\n",
       "1   Alice\n",
       "2     Bob\n",
       "3    John"
      ]
     },
     "execution_count": 151,
     "metadata": {},
     "output_type": "execute_result"
    }
   ],
   "source": [
    "import pandas as pd\n",
    "def df_col(df,col_name):\n",
    "    if col_name in df.columns:\n",
    "        return df[[col_name]]\n",
    "    else:\n",
    "        return \"Columnn does not exist\"\n",
    "dict_sample={\"name\":[\"Farhan\",\"Alice\",\"Bob\",\"John\"],\"nationality\":[\"Pakistani\",\"British\",\"British\",\"American\"],\"national_language\":[\"Urdu\",\"English\",\"English\",\"English\"]}\n",
    "dict_df=pd.DataFrame.from_dict(dict_sample)\n",
    "df_col(dict_df,\"name\")"
   ]
  },
  {
   "cell_type": "markdown",
   "id": "be1ee0a2-0419-460e-9c08-a948ddf6ce81",
   "metadata": {},
   "source": [
    "**Question 14**\n",
    " Write a function,that takes a dataframe and prints all the column name in that dataframe line by\n",
    " line\n",
    " \n",
    "     "
   ]
  },
  {
   "cell_type": "code",
   "execution_count": 152,
   "id": "9c2d6c0a-5b97-4666-9a18-34461824c7bd",
   "metadata": {},
   "outputs": [
    {
     "name": "stdout",
     "output_type": "stream",
     "text": [
      "name\n",
      "nationality\n",
      "national_language\n"
     ]
    }
   ],
   "source": [
    "def col_print(df):\n",
    "     for col in df.columns:\n",
    "         print(col)\n",
    "col_print(dict_df)"
   ]
  },
  {
   "cell_type": "markdown",
   "id": "0311765b-6a0d-4611-acf7-3e8cd5a219c5",
   "metadata": {},
   "source": [
    "**Question 15**  \n",
    " Write a function,that takes a dataframe and a starting and ending location and return that\n",
    " dataframe with those specific rows"
   ]
  },
  {
   "cell_type": "code",
   "execution_count": 157,
   "id": "7c47310b-7411-4920-a25c-b0a6d247cd5e",
   "metadata": {},
   "outputs": [
    {
     "data": {
      "text/html": [
       "<div>\n",
       "<style scoped>\n",
       "    .dataframe tbody tr th:only-of-type {\n",
       "        vertical-align: middle;\n",
       "    }\n",
       "\n",
       "    .dataframe tbody tr th {\n",
       "        vertical-align: top;\n",
       "    }\n",
       "\n",
       "    .dataframe thead th {\n",
       "        text-align: right;\n",
       "    }\n",
       "</style>\n",
       "<table border=\"1\" class=\"dataframe\">\n",
       "  <thead>\n",
       "    <tr style=\"text-align: right;\">\n",
       "      <th></th>\n",
       "      <th>name</th>\n",
       "      <th>nationality</th>\n",
       "      <th>national_language</th>\n",
       "    </tr>\n",
       "  </thead>\n",
       "  <tbody>\n",
       "    <tr>\n",
       "      <th>0</th>\n",
       "      <td>Farhan</td>\n",
       "      <td>Pakistani</td>\n",
       "      <td>Urdu</td>\n",
       "    </tr>\n",
       "    <tr>\n",
       "      <th>1</th>\n",
       "      <td>Alice</td>\n",
       "      <td>British</td>\n",
       "      <td>English</td>\n",
       "    </tr>\n",
       "    <tr>\n",
       "      <th>2</th>\n",
       "      <td>Bob</td>\n",
       "      <td>British</td>\n",
       "      <td>English</td>\n",
       "    </tr>\n",
       "  </tbody>\n",
       "</table>\n",
       "</div>"
      ],
      "text/plain": [
       "     name nationality national_language\n",
       "0  Farhan   Pakistani              Urdu\n",
       "1   Alice     British           English\n",
       "2     Bob     British           English"
      ]
     },
     "execution_count": 157,
     "metadata": {},
     "output_type": "execute_result"
    }
   ],
   "source": [
    "def return_data(df,start,end):\n",
    "    return df[start:end+1]\n",
    "return_data(dict_df,0,2)"
   ]
  },
  {
   "cell_type": "markdown",
   "id": "0991d635-646f-4c62-8869-21c65262794e",
   "metadata": {},
   "source": [
    " **Question 16**  \n",
    " Write a function,that takes a dataframe,and takes start and ending rows ,with the column\n",
    " location list and return the new dataframe"
   ]
  },
  {
   "cell_type": "code",
   "execution_count": 164,
   "id": "50b4ab1f-a46d-4b42-955b-e97034ad2dbe",
   "metadata": {},
   "outputs": [
    {
     "data": {
      "text/html": [
       "<div>\n",
       "<style scoped>\n",
       "    .dataframe tbody tr th:only-of-type {\n",
       "        vertical-align: middle;\n",
       "    }\n",
       "\n",
       "    .dataframe tbody tr th {\n",
       "        vertical-align: top;\n",
       "    }\n",
       "\n",
       "    .dataframe thead th {\n",
       "        text-align: right;\n",
       "    }\n",
       "</style>\n",
       "<table border=\"1\" class=\"dataframe\">\n",
       "  <thead>\n",
       "    <tr style=\"text-align: right;\">\n",
       "      <th></th>\n",
       "      <th>name</th>\n",
       "      <th>national_language</th>\n",
       "    </tr>\n",
       "  </thead>\n",
       "  <tbody>\n",
       "    <tr>\n",
       "      <th>0</th>\n",
       "      <td>Farhan</td>\n",
       "      <td>Urdu</td>\n",
       "    </tr>\n",
       "    <tr>\n",
       "      <th>1</th>\n",
       "      <td>Alice</td>\n",
       "      <td>English</td>\n",
       "    </tr>\n",
       "    <tr>\n",
       "      <th>2</th>\n",
       "      <td>Bob</td>\n",
       "      <td>English</td>\n",
       "    </tr>\n",
       "  </tbody>\n",
       "</table>\n",
       "</div>"
      ],
      "text/plain": [
       "     name national_language\n",
       "0  Farhan              Urdu\n",
       "1   Alice           English\n",
       "2     Bob           English"
      ]
     },
     "execution_count": 164,
     "metadata": {},
     "output_type": "execute_result"
    }
   ],
   "source": [
    "def return_coldata(df,start,end,column):\n",
    "    new_df=df.iloc[start:end+1,column]\n",
    "    return new_df\n",
    "return_coldata(dict_df,0,2,[0,2])\n",
    "    "
   ]
  },
  {
   "cell_type": "markdown",
   "id": "cb6dc4d3-5a52-4b32-b697-c200b7a1fcd4",
   "metadata": {},
   "source": [
    "**Question 17**  \n",
    " Write a function, that takes a dataframe and a column and returns its unique values"
   ]
  },
  {
   "cell_type": "code",
   "execution_count": 167,
   "id": "690b933b-c00c-4ec9-9f52-95855fd4ce93",
   "metadata": {},
   "outputs": [
    {
     "data": {
      "text/plain": [
       "array(['Urdu', 'English'], dtype=object)"
      ]
     },
     "execution_count": 167,
     "metadata": {},
     "output_type": "execute_result"
    }
   ],
   "source": [
    "def unique_val(df,column):\n",
    "    list_uniq=df[column].unique()\n",
    "    return list_uniq\n",
    "unique_val(dict_df,\"national_language\")"
   ]
  },
  {
   "cell_type": "markdown",
   "id": "54bc72e1-6780-4585-87e4-2ec964ffc51e",
   "metadata": {},
   "source": [
    "**Question 18**  \n",
    "Write a function that takes a dataframe and a col[Index] multiplies by 4 and saves it in the new\n",
    " column [index_new] this name should also be sent as a parameter"
   ]
  },
  {
   "cell_type": "code",
   "execution_count": 177,
   "id": "7e329dba-1b37-45b7-bc50-110e0aaae81a",
   "metadata": {},
   "outputs": [
    {
     "data": {
      "text/html": [
       "<div>\n",
       "<style scoped>\n",
       "    .dataframe tbody tr th:only-of-type {\n",
       "        vertical-align: middle;\n",
       "    }\n",
       "\n",
       "    .dataframe tbody tr th {\n",
       "        vertical-align: top;\n",
       "    }\n",
       "\n",
       "    .dataframe thead th {\n",
       "        text-align: right;\n",
       "    }\n",
       "</style>\n",
       "<table border=\"1\" class=\"dataframe\">\n",
       "  <thead>\n",
       "    <tr style=\"text-align: right;\">\n",
       "      <th></th>\n",
       "      <th>new_index</th>\n",
       "    </tr>\n",
       "  </thead>\n",
       "  <tbody>\n",
       "    <tr>\n",
       "      <th>0</th>\n",
       "      <td>4</td>\n",
       "    </tr>\n",
       "    <tr>\n",
       "      <th>1</th>\n",
       "      <td>8</td>\n",
       "    </tr>\n",
       "    <tr>\n",
       "      <th>2</th>\n",
       "      <td>12</td>\n",
       "    </tr>\n",
       "    <tr>\n",
       "      <th>3</th>\n",
       "      <td>16</td>\n",
       "    </tr>\n",
       "  </tbody>\n",
       "</table>\n",
       "</div>"
      ],
      "text/plain": [
       "   new_index\n",
       "0          4\n",
       "1          8\n",
       "2         12\n",
       "3         16"
      ]
     },
     "execution_count": 177,
     "metadata": {},
     "output_type": "execute_result"
    }
   ],
   "source": [
    "dict_df[\"index\"]=[1,2,3,4]\n",
    "def col_mult(df,col_index,col_new_index):\n",
    "    df[col_new_index]=df[col_index]*4\n",
    "    return df[[col_new_index]]\n",
    "col_mult(dict_df,\"index\",\"new_index\")\n",
    "    "
   ]
  },
  {
   "cell_type": "markdown",
   "id": "dbfa6a72-fa3b-4f99-89bf-67d08e6c9769",
   "metadata": {},
   "source": [
    "**Question 19**\n",
    " Write a Python program that checks if a given number is positive and prints a corresponding\n",
    " message."
   ]
  },
  {
   "cell_type": "code",
   "execution_count": 180,
   "id": "6f62f717-22c4-4244-ab54-4bbc741d4bfd",
   "metadata": {},
   "outputs": [
    {
     "name": "stdout",
     "output_type": "stream",
     "text": [
      "5 is a positive number\n"
     ]
    }
   ],
   "source": [
    "def number_check(number):\n",
    "    if number>0:\n",
    "        print(f\"{number} is a positive number\")\n",
    "number_check(5)"
   ]
  },
  {
   "cell_type": "markdown",
   "id": "c2a92412-116d-4204-953c-48e036a90072",
   "metadata": {},
   "source": [
    "**Question 20**\n",
    " Create a Python program that determines whether a person is eligible to vote based on their\n",
    " age"
   ]
  },
  {
   "cell_type": "code",
   "execution_count": 184,
   "id": "cea7302e-f7f8-4a94-b79b-91090fb2e7e2",
   "metadata": {},
   "outputs": [
    {
     "name": "stdout",
     "output_type": "stream",
     "text": [
      "You are eligible to vote!\n"
     ]
    }
   ],
   "source": [
    "def elig_vote(age):\n",
    "    if age>=18:\n",
    "        print(\"You are eligible to vote!\")\n",
    "    else:\n",
    "        print(\"Sorry, you are under 18 and not eligible to vote.\")\n",
    "elig_vote(20)"
   ]
  },
  {
   "cell_type": "markdown",
   "id": "fc00149f-80fc-47f6-be69-c07fc5b57147",
   "metadata": {},
   "source": [
    "**Question 21**\n",
    " Write a Python program that categorizes a student's grade based on their test score."
   ]
  },
  {
   "cell_type": "code",
   "execution_count": 188,
   "id": "b2f162a2-0501-4f97-bb0b-38c855e7eaa7",
   "metadata": {},
   "outputs": [
    {
     "data": {
      "text/plain": [
       "'A+'"
      ]
     },
     "execution_count": 188,
     "metadata": {},
     "output_type": "execute_result"
    }
   ],
   "source": [
    "def stud_grade(score):\n",
    "    if score>=90:\n",
    "        grade=\"A+\"\n",
    "    elif score>=80:\n",
    "        grade=\"A\"\n",
    "    elif score>=70:\n",
    "        grade=\"B\"\n",
    "    elif score>=60:\n",
    "        grade=\"C\"\n",
    "    elif score>=50:\n",
    "        grade=\"D\"\n",
    "    elif score>=40:\n",
    "        grade=\"E\"\n",
    "    else:\n",
    "        grade=\"F\"\n",
    "    return grade\n",
    "stud_grade(95)"
   ]
  },
  {
   "cell_type": "markdown",
   "id": "f322937f-1aad-45ef-8f0a-72912c80b370",
   "metadata": {},
   "source": [
    "**Question 22**  \n",
    " Create a Python program that checks if a given number is even and positive, even and\n",
    " negative, odd and positive, or odd and negative."
   ]
  },
  {
   "cell_type": "code",
   "execution_count": 194,
   "id": "3c8c31bf-c629-4cd8-a434-3b9d4f8c08cd",
   "metadata": {},
   "outputs": [
    {
     "name": "stdout",
     "output_type": "stream",
     "text": [
      "-2 is even and negative.\n"
     ]
    }
   ],
   "source": [
    "def number_check(number):\n",
    "    if number==0:\n",
    "        print(\"Number is zero and is neutral\")\n",
    "    elif number%2==0:\n",
    "        if number>0:\n",
    "            print(f\"{number} is even and positive.\")\n",
    "        else:\n",
    "            print(f\"{number} is even and negative.\")\n",
    "    elif number%2!=0:\n",
    "        if number>0:\n",
    "            print(f\"{number} is odd and positive.\")\n",
    "        else:\n",
    "            print(f\"{number} is odd and negative.\")\n",
    "number_check(-2)"
   ]
  },
  {
   "cell_type": "markdown",
   "id": "1910b00c-52f7-4b40-ba5f-022f8335ab99",
   "metadata": {},
   "source": [
    "**Question 23**  \n",
    " **You are building a shopping cart application.** How would you use functions to calculate the total\n",
    " price of items in a cart with different quantities and prices?"
   ]
  },
  {
   "cell_type": "code",
   "execution_count": 216,
   "id": "67adc8a8-c8fc-4a6d-a087-af58ed36d292",
   "metadata": {},
   "outputs": [
    {
     "name": "stdout",
     "output_type": "stream",
     "text": [
      "182\n"
     ]
    }
   ],
   "source": [
    "def total_price(items):\n",
    "    df_item=pd.DataFrame.from_dict(items)\n",
    "    df_item[\"total_price\"]=df_item.quantity*df_item.price\n",
    "    total_sum=df_item[\"total_price\"].sum()\n",
    "    return total_sum\n",
    "\n",
    "items={\"item\":[\"hanger\",\"apples\",\"oranges\",\"banana\",\"milk\"],\"quantity\":[2,8,3,4,10],\"price\":[1,20,2,1,1]}\n",
    "total=total_price(items)\n",
    "print(total)"
   ]
  },
  {
   "cell_type": "markdown",
   "id": "7510b4de-17ae-4ceb-a9ab-d68dae9fc858",
   "metadata": {},
   "source": [
    "**Question 24**\n",
    " You are working on a data analysis project and need to apply a custom transformation to each\n",
    " element in a dataset. How can you use a function to apply this transformation efficiently"
   ]
  },
  {
   "cell_type": "code",
   "execution_count": 218,
   "id": "9d487b5f-dd3c-43e5-bb76-9c6a7afca6c1",
   "metadata": {},
   "outputs": [
    {
     "data": {
      "text/plain": [
       "[0.5, 2.0, 4.5, 8.0, 12.5, 18.0, 24.5, 32.0]"
      ]
     },
     "execution_count": 218,
     "metadata": {},
     "output_type": "execute_result"
    }
   ],
   "source": [
    "def transform(dataset):\n",
    "    list_output=[]\n",
    "    for value in dataset:\n",
    "        list_output.append(value**2/2)\n",
    "    return list_output\n",
    "dataset=[1,2,3,4,5,6,7,8]\n",
    "transform(dataset)"
   ]
  },
  {
   "cell_type": "markdown",
   "id": "cd6dd28a-826f-4f63-be8a-4f647ed17eb6",
   "metadata": {},
   "source": [
    " **Question 25**  \n",
    "**You are developing a web application** and want to implement user authentication. How can you\n",
    " use functions to handle user login and validation?"
   ]
  },
  {
   "cell_type": "code",
   "execution_count": 273,
   "id": "c6ed92e8-3acb-4602-a05f-7d3fe12790cf",
   "metadata": {},
   "outputs": [
    {
     "name": "stdout",
     "output_type": "stream",
     "text": [
      "User not found.\n"
     ]
    }
   ],
   "source": [
    "def user_validate(all_user_info,username,password):\n",
    "    if username in all_user_info.keys():\n",
    "        if all_user_info[username]==password:\n",
    "            print(\"Login Successful!\")\n",
    "        else:\n",
    "            print(\"Check your password.\")\n",
    "    else:\n",
    "        print(\"User not found.\")\n",
    "            \n",
    "all_user_info={\"user1\":\"password1\",\"user2\":\"password2\",\"user3\":\"password3\",\"user4\":\"password4\"}\n",
    "user_validate(all_user_info,\"user6\",\"password3\")"
   ]
  },
  {
   "cell_type": "markdown",
   "id": "71f92957-8c4f-4d81-82d9-5a8af4fa7841",
   "metadata": {},
   "source": [
    "**Question 26**  \n",
    " You are developing a game and need to track player statistics, such as health, score, and level.\n",
    " How can you use functions to update and display these statistics?"
   ]
  },
  {
   "cell_type": "code",
   "execution_count": 282,
   "id": "fce958c5-b97c-4e4f-8cc0-0d385a16023a",
   "metadata": {},
   "outputs": [
    {
     "name": "stdout",
     "output_type": "stream",
     "text": [
      "Player Health is 80.\n",
      "Player score is 200.\n",
      "Player level is L2.\n"
     ]
    }
   ],
   "source": [
    "health=100\n",
    "score=0\n",
    "level=\"L1\"\n",
    "def player_stats_update(health_update,score_update,level_update):\n",
    "    new_health=health_update\n",
    "    new_score=score+score_update\n",
    "    new_level=level_update\n",
    "    print(f\"Player Health is {new_health}.\")\n",
    "    print(f\"Player score is {new_score}.\")\n",
    "    print(f\"Player level is {new_level}.\")\n",
    "player_stats_update(80,200,\"L2\")"
   ]
  },
  {
   "cell_type": "markdown",
   "id": "12a5f10e-2172-41ba-b1d3-dde5c54c61e8",
   "metadata": {},
   "source": [
    "**Question 27** \n",
    " You are developing a scientific calculator application. How can you use functions to implement\n",
    " various mathematical operations like addition, subtraction, multiplication, and division?"
   ]
  },
  {
   "cell_type": "code",
   "execution_count": 284,
   "id": "cf8ab5dc-9f60-460b-9eb9-0c76332d8906",
   "metadata": {},
   "outputs": [
    {
     "name": "stdout",
     "output_type": "stream",
     "text": [
      "4\n",
      "2\n",
      "16\n",
      "2.0\n"
     ]
    }
   ],
   "source": [
    "def add(a,b):\n",
    "    return a+b\n",
    "def sub(a,b):\n",
    "    return a-b\n",
    "def mul(a,b):\n",
    "    return a*b\n",
    "def div(a,b):\n",
    "    return a/b\n",
    "print(add(2,2))\n",
    "print(sub(4,2))\n",
    "print(mul(2,8))\n",
    "print(div(4,2))"
   ]
  },
  {
   "cell_type": "markdown",
   "id": "adf718f1-11d1-4928-bdfb-c25874b376c6",
   "metadata": {},
   "source": [
    " **Question 28**  \n",
    " **Write a Python function called authenticate_users**(users, input_username, input_password) that\n",
    " takes a list of user profiles, an input username, and an input password. The function should use\n",
    " a lambda function to filter the list of user profiles based on the provided username and\n",
    " password. If a matching user is found, return their profile; otherwise, return None"
   ]
  },
  {
   "cell_type": "code",
   "execution_count": 312,
   "id": "bb6c96b9-2506-4c05-9d18-598ef81502b3",
   "metadata": {},
   "outputs": [
    {
     "name": "stdout",
     "output_type": "stream",
     "text": [
      "Login successful.\n"
     ]
    }
   ],
   "source": [
    "users={\"user1\":\"password1\",\"user2\":\"password2\",\"user3\":\"password3\",\"user4\":\"password4\"}\n",
    "def authenticate_users(users,input_user_name,input_password):\n",
    "    result_user=lambda x:x in users.keys()\n",
    "    result_pass=lambda y:y==users[input_user_name]\n",
    "    if result_user(input_user_name):\n",
    "        if result_pass(input_password):\n",
    "            print(\"Login successful.\")\n",
    "        else:\n",
    "            print(\"Incorrect password.\")\n",
    "    else:\n",
    "        print(\"User not found.\")\n",
    "        \n",
    "authenticate_users(users,\"user2\",\"password2\")"
   ]
  },
  {
   "cell_type": "markdown",
   "id": "1517a10f-379c-43eb-a538-3edd8d98a3d8",
   "metadata": {},
   "source": [
    "**Question 29**  \n",
    " Write a Python function called sort_books_by_price_range(books, min_price, max_price) that\n",
    " takes a list of books, a minimum price, and a maximum price as input. The function should use a\n",
    " lambda function to filter and sort the books within the specified price range. It should return a\n",
    " sorted list of books that fall within the given price range.\n",
    " Each book is represented as a dictionary with 'title', 'author', and 'price' keys."
   ]
  },
  {
   "cell_type": "code",
   "execution_count": 322,
   "id": "81bf421b-e690-4119-b452-4de8fbc85c3a",
   "metadata": {},
   "outputs": [
    {
     "name": "stdout",
     "output_type": "stream",
     "text": [
      "Book title is  Book2 . Book Author is  writer2 . Book Price is  30\n",
      "Book title is  Book3 . Book Author is  writer3 . Book Price is  40\n"
     ]
    }
   ],
   "source": [
    "books=[{\"title\":\"Book1\",\"author\":\"writer1\",\"price\":20},{\"title\":\"Book2\",\"author\":\"writer2\",\"price\":30},\n",
    "       {\"title\":\"Book3\",\"author\":\"writer3\",\"price\":40}]\n",
    "def book_func(books,min_price,max_price):\n",
    "    resulting_books=sorted(filter(lambda book:book[\"price\"] >=min_price and book[\"price\"]<=max_price,books),key=lambda book:book[\"price\"])\n",
    "    for book in resulting_books:\n",
    "        print(\"Book title is \",book[\"title\"],\". Book Author is \",book[\"author\"],\". Book Price is \",book[\"price\"])\n",
    "book_func(books,24,45)"
   ]
  },
  {
   "cell_type": "markdown",
   "id": "214d6ee0-a1f3-4042-84d8-2f0b8ff2ca03",
   "metadata": {},
   "source": [
    "**Question 30**  \n",
    " You are provided with a dictionary containing employee names and their corresponding monthly\n",
    " salaries. Find and display the highest salary in the company. Calculate and print the average\n",
    " salary of all employees. Identify and display the names of employees who earn above a certain\n",
    " threshold (e.g., $5000). Sort and display the employee names in alphabetical order."
   ]
  },
  {
   "cell_type": "code",
   "execution_count": 343,
   "id": "02c926b4-bfb6-49c4-9aca-f9194935dd4f",
   "metadata": {},
   "outputs": [
    {
     "name": "stdout",
     "output_type": "stream",
     "text": [
      "Max Salary is  50000\n",
      "Average Salary is  30000.0\n",
      "List of high salary employees: ['emp5', 'emp4']\n",
      "['emp1', 'emp2', 'emp3', 'emp4', 'emp5']\n"
     ]
    }
   ],
   "source": [
    "emp_records={\"emp1\":10000,\"emp2\":20000,\"emp3\":30000,\"emp5\":50000,\"emp4\":40000}\n",
    "def max_salary(emp_records):\n",
    "    max_sal=0\n",
    "    for key in emp_records:\n",
    "        if emp_records[key]>max_sal:\n",
    "            max_sal=emp_records[key]\n",
    "    return max_sal\n",
    "def avg_salary(emp_records):\n",
    "    avg_sal=sum(emp_records.values())/len(emp_records)\n",
    "    return avg_sal\n",
    "def high_salary(emp_records,high_sal_thresh):\n",
    "    high_sal_emp=[]\n",
    "    for key in emp_records:\n",
    "        if emp_records[key]>high_sal_thresh:\n",
    "            high_sal_emp.append(key)\n",
    "    print(\"List of high salary employees:\",high_sal_emp)\n",
    "            \n",
    "def sort_emp(emp_records):\n",
    "    list_emp=list(emp_records.keys())\n",
    "    print(sorted(list_emp))\n",
    "    \n",
    "print(\"Max Salary is \",max_salary(emp_records))\n",
    "print(\"Average Salary is \",avg_salary(emp_records))\n",
    "high_salary(emp_records,35000)\n",
    "sort_emp(emp_records)"
   ]
  },
  {
   "cell_type": "markdown",
   "id": "129c02a9-9656-4664-b554-929cc4de4565",
   "metadata": {},
   "source": [
    "**Question 31**  \n",
    "  Extend the dictionary to include the age of each employee. Find and display the oldest\n",
    " employee in the company. Calculate and print the average age of all employees. Identify and\n",
    " display the names of employees who are younger than a certain age (e.g., 30). Sort and display\n",
    " the employee names based on age in ascending order."
   ]
  },
  {
   "cell_type": "code",
   "execution_count": 364,
   "id": "4a59f6ff-f1d6-4088-a0e1-7a575a135270",
   "metadata": {},
   "outputs": [
    {
     "name": "stdout",
     "output_type": "stream",
     "text": [
      "Oldest age is : 50\n",
      "Average age is :36.25.\n",
      "List of young employees:  ['emp4']\n",
      "Employees sorted by age:\n",
      "emp4\n",
      "emp1\n",
      "emp3\n",
      "emp2\n"
     ]
    }
   ],
   "source": [
    "emp_records2=[{\"name\":\"emp1\",\"salary\":10000,\"age\":30},\n",
    "            {\"name\":\"emp2\",\"salary\":20000,\"age\":50},\n",
    "             {\"name\":\"emp3\",\"salary\":30000,\"age\":40},\n",
    "              {\"name\":\"emp4\",\"salary\":40000,\"age\":25}]\n",
    "\n",
    "def old_age(emp_records2):\n",
    "    oldest=0\n",
    "    for emp in emp_records2:\n",
    "        if emp[\"age\"]>oldest:\n",
    "            oldest=emp[\"age\"]\n",
    "    print(\"Oldest age is :\",oldest)\n",
    "\n",
    "def avg_age(emp_records2):\n",
    "    age_list=[]\n",
    "    for emp in emp_records2:\n",
    "        age_list.append(emp[\"age\"])\n",
    "    average_age=sum(age_list)/len(age_list)\n",
    "    print(f\"Average age is :{average_age}.\")\n",
    "\n",
    "def young_emp(emp_records2,young_age):\n",
    "    young_emp=[]\n",
    "    for emp in emp_records2:\n",
    "        if emp[\"age\"]<young_age:\n",
    "            young_emp.append(emp[\"name\"])\n",
    "    print(\"List of young employees: \",young_emp)\n",
    "\n",
    "def sort_age(emp_records2):\n",
    "    sorted_age=sorted(emp_records2,key=lambda emp:emp[\"age\"])\n",
    "    print(\"Employees sorted by age:\")\n",
    "    for emp in sorted_age:\n",
    "        print(emp[\"name\"])\n",
    "\n",
    "old_age(emp_records2)\n",
    "avg_age(emp_records2)\n",
    "young_emp(emp_records2,30)        \n",
    "sort_age(emp_records2)"
   ]
  },
  {
   "cell_type": "markdown",
   "id": "e9e7dcee-502a-4b41-9271-6a98ead87be6",
   "metadata": {},
   "source": [
    "**Question 32**  \n",
    " Add a new key to the dictionary to represent the performance rating of each employee (on a\n",
    " scale of 1 to 10). Identify and display the names of employees with the highest performance\n",
    " rating. Calculate and print the average performance rating of all employees. Identify and display\n",
    " the names of employees with a rating above a certain threshold (e.g., 8). Sort and display the\n",
    " employee names based on their performance rating in descending order."
   ]
  },
  {
   "cell_type": "code",
   "execution_count": 388,
   "id": "b6fc3acb-ac50-4151-a5f2-4ab24a21c237",
   "metadata": {},
   "outputs": [
    {
     "name": "stdout",
     "output_type": "stream",
     "text": [
      "Highest rated employee is:\n",
      "emp3\n",
      "Average rating of employees is : 7.5\n",
      "High rated employees are: ['emp3']\n",
      "Employee names sorted in terms of their rating in descending order:\n",
      "emp3\n",
      "emp1\n",
      "emp2\n",
      "emp4\n"
     ]
    }
   ],
   "source": [
    "emp_records3=[{\"name\":\"emp1\",\"salary\":10000,\"age\":30,\"rating\":8},\n",
    "            {\"name\":\"emp2\",\"salary\":20000,\"age\":50,\"rating\":7},\n",
    "             {\"name\":\"emp3\",\"salary\":30000,\"age\":40,\"rating\":9},\n",
    "              {\"name\":\"emp4\",\"salary\":40000,\"age\":25,\"rating\":6}]\n",
    "\n",
    "def highest_rating(emp_records3):\n",
    "    sorted_result=sorted(emp_records3,key=lambda emp:emp[\"rating\"],reverse=True)\n",
    "    print(\"Highest rated employee is:\")\n",
    "    print(sorted_result[0][\"name\"])\n",
    "\n",
    "def avg_rating(emp_records3):\n",
    "    ratings=[]\n",
    "    for emp in emp_records3:\n",
    "        ratings.append(emp[\"rating\"])\n",
    "    average_rating=sum(ratings)/len(ratings)\n",
    "    print(\"Average rating of employees is :\",average_rating)\n",
    "        \n",
    "def high_rating(emp_records3,rating_criteria):\n",
    "    rated_emp=[]\n",
    "    for emp in emp_records3:\n",
    "        if emp[\"rating\"]>rating_criteria:\n",
    "            rated_emp.append(emp[\"name\"])\n",
    "    print(\"High rated employees are:\",rated_emp)\n",
    "            \n",
    "def sort_rating(emp_records3):\n",
    "    sorted_emp=sorted(emp_records3,key=lambda emp:emp[\"rating\"],reverse=True)\n",
    "    print(\"Employee names sorted in terms of their rating in descending order:\")\n",
    "    for sorted_employee in sorted_emp:\n",
    "        print(sorted_employee[\"name\"])\n",
    "    \n",
    "highest_rating(emp_records3)\n",
    "avg_rating(emp_records3)\n",
    "high_rating(emp_records3,8)\n",
    "sort_rating(emp_records3)\n",
    "    \n",
    "    \n",
    "        "
   ]
  },
  {
   "cell_type": "markdown",
   "id": "09821ce2-2edc-45cc-bb6b-414aaa5a2751",
   "metadata": {},
   "source": [
    "**Question 33**  \n",
    " Assume that each employee is eligible for a bonus based on their performance. Calculate and\n",
    " display the bonus amount for each employee (bonus = 10% of their salary). Identify and display\n",
    " the names of employees who are eligible for a bonus (performance rating above 5). Sort and\n",
    " display the employee names based on the bonus amount in descending order."
   ]
  },
  {
   "cell_type": "code",
   "execution_count": 403,
   "id": "a32f7415-d521-4a76-9835-7da409205c5a",
   "metadata": {},
   "outputs": [
    {
     "name": "stdout",
     "output_type": "stream",
     "text": [
      "Employee  emp1  bonus amount is  {1000.0} .\n",
      "Employee  emp2  bonus amount is  {2000.0} .\n",
      "Employee  emp3  bonus amount is  {3000.0} .\n",
      "Employee  emp4  bonus amount is  {4000.0} .\n",
      "Employees eligible for bonus are:\n",
      "Employee  emp1  is eligible for bonus.\n",
      "Employee  emp2  is eligible for bonus.\n",
      "Employee  emp3  is eligible for bonus.\n",
      "List of employees sorted by their bonus amount in descending order:\n",
      "emp4\n",
      "emp3\n",
      "emp2\n",
      "emp1\n"
     ]
    }
   ],
   "source": [
    "emp_records4=[{\"name\":\"emp1\",\"salary\":10000,\"age\":30,\"rating\":8},\n",
    "            {\"name\":\"emp2\",\"salary\":20000,\"age\":50,\"rating\":7},\n",
    "             {\"name\":\"emp3\",\"salary\":30000,\"age\":40,\"rating\":9},\n",
    "              {\"name\":\"emp4\",\"salary\":40000,\"age\":25,\"rating\":4}]\n",
    "def calc_bonus(emp_records4):\n",
    "    for emp in emp_records4:\n",
    "        print(\"Employee \",emp[\"name\"],\" bonus amount is \",{emp[\"salary\"]*0.10},\".\")\n",
    "\n",
    "def bonus_eligible(emp_records4):\n",
    "    print(\"Employees eligible for bonus are:\")\n",
    "    for emp in emp_records4:\n",
    "        if emp[\"rating\"]>5:\n",
    "            print(\"Employee \",emp[\"name\"],\" is eligible for bonus.\")\n",
    "\n",
    "def sort_bonus(emp_records4):\n",
    "    for emp in emp_records4:\n",
    "        emp[\"bonus\"]=emp[\"salary\"]*0.10\n",
    "    sorted_by_bonus=sorted(emp_records4,key=lambda emp:emp[\"bonus\"],reverse=True)\n",
    "    print(\"List of employees sorted by their bonus amount in descending order:\")\n",
    "    for emp in sorted_by_bonus:\n",
    "        print(emp[\"name\"])\n",
    "    \n",
    "\n",
    "calc_bonus(emp_records4)               \n",
    "bonus_eligible(emp_records4)\n",
    "sort_bonus(emp_records4)\n",
    "    "
   ]
  },
  {
   "cell_type": "markdown",
   "id": "700bd63c-3d93-4e6e-a72a-671f149388c7",
   "metadata": {},
   "source": [
    " **Question 34**  \n",
    " Write a function create_dataframe () that creates and returns a DataFrame with the following\n",
    " data:  \n",
    " Name   Age   City  \n",
    " Alice  25   New York  \n",
    " Bob    30   San Francisco  \n",
    " Charlie 35 Chicago  "
   ]
  },
  {
   "cell_type": "code",
   "execution_count": 417,
   "id": "ff98a04b-416c-46fa-8bd8-70d6d0bce32e",
   "metadata": {},
   "outputs": [
    {
     "name": "stdout",
     "output_type": "stream",
     "text": [
      "      Name  Age           City\n",
      "0    Alice   25       New York\n",
      "1      Bob   30  San Francisco\n",
      "2  Charlie   35        Chicago\n"
     ]
    }
   ],
   "source": [
    "def create_dataframe():\n",
    "    data={\"Name\":[\"Alice\",\"Bob\",\"Charlie\"],\"Age\":[25,30,35],\"City\":[\"New York\",\"San Francisco\",\"Chicago\"]}\n",
    "    df=pd.DataFrame(data)\n",
    "    return df\n",
    "df=create_dataframe()\n",
    "print(df)\n",
    "    "
   ]
  },
  {
   "cell_type": "markdown",
   "id": "144eaa12-02e9-454d-bc9a-1bfaffaabb01",
   "metadata": {},
   "source": [
    " **Question 35**  \n",
    " Write a function filter_age(df, age_threshold) that takes a DataFrame and an age threshold as\n",
    " arguments.\n",
    " The function should return all rows where the Age is greater than the given threshold.\n"
   ]
  },
  {
   "cell_type": "code",
   "execution_count": 420,
   "id": "995ac617-a73b-4ffd-aac8-c9bda91b393e",
   "metadata": {},
   "outputs": [
    {
     "data": {
      "text/html": [
       "<div>\n",
       "<style scoped>\n",
       "    .dataframe tbody tr th:only-of-type {\n",
       "        vertical-align: middle;\n",
       "    }\n",
       "\n",
       "    .dataframe tbody tr th {\n",
       "        vertical-align: top;\n",
       "    }\n",
       "\n",
       "    .dataframe thead th {\n",
       "        text-align: right;\n",
       "    }\n",
       "</style>\n",
       "<table border=\"1\" class=\"dataframe\">\n",
       "  <thead>\n",
       "    <tr style=\"text-align: right;\">\n",
       "      <th></th>\n",
       "      <th>Name</th>\n",
       "      <th>Age</th>\n",
       "      <th>City</th>\n",
       "    </tr>\n",
       "  </thead>\n",
       "  <tbody>\n",
       "    <tr>\n",
       "      <th>1</th>\n",
       "      <td>Bob</td>\n",
       "      <td>30</td>\n",
       "      <td>San Francisco</td>\n",
       "    </tr>\n",
       "    <tr>\n",
       "      <th>2</th>\n",
       "      <td>Charlie</td>\n",
       "      <td>35</td>\n",
       "      <td>Chicago</td>\n",
       "    </tr>\n",
       "  </tbody>\n",
       "</table>\n",
       "</div>"
      ],
      "text/plain": [
       "      Name  Age           City\n",
       "1      Bob   30  San Francisco\n",
       "2  Charlie   35        Chicago"
      ]
     },
     "execution_count": 420,
     "metadata": {},
     "output_type": "execute_result"
    }
   ],
   "source": [
    "def filter_age(df,age_threshold):\n",
    "    filtered_df=df[df.Age>age_threshold]\n",
    "    return filtered_df\n",
    "filter_age(df,25)"
   ]
  },
  {
   "cell_type": "markdown",
   "id": "17cd2ef5-47a0-43d4-b0b1-739814a0b71b",
   "metadata": {},
   "source": [
    "**Question 36**  \n",
    " Write a function fill_missing_ages(df) that takes a DataFrame and replaces missing values in\n",
    " the Age column with the average age."
   ]
  },
  {
   "cell_type": "code",
   "execution_count": 456,
   "id": "b583d6d7-ec83-45af-ab34-fed73ccac288",
   "metadata": {},
   "outputs": [
    {
     "name": "stdout",
     "output_type": "stream",
     "text": [
      "      Name  Age           City\n",
      "0    Alice   25       New York\n",
      "1      Bob   30  San Francisco\n",
      "2  Charlie   35        Chicago\n",
      "3    Akram   30         Lahore\n"
     ]
    }
   ],
   "source": [
    "data2={\"Name\":[\"Alice\",\"Bob\",\"Charlie\",\"Akram\"],\"Age\":[25,30,35,\"\"],\"City\":[\"New York\",\"San Francisco\",\"Chicago\",\"Lahore\"]}\n",
    "df_new=pd.DataFrame(data2)\n",
    "\n",
    "def fill_missing_ages(df):\n",
    "    df[\"Age\"]=pd.to_numeric(df[\"Age\"],errors=\"coerce\").astype(\"Int64\")\n",
    "    df[\"Age\"]=df[\"Age\"].fillna(df[\"Age\"].mean())\n",
    "    print(df)\n",
    "df4=fill_missing_ages(df_new)\n"
   ]
  },
  {
   "cell_type": "markdown",
   "id": "305dd37e-f122-4007-b923-b3714993e557",
   "metadata": {},
   "source": [
    "**Question 37**   \n",
    " Write a function group_by_city(df) that groups the DataFrame by the City column and returns\n",
    " the average age for each city."
   ]
  },
  {
   "cell_type": "code",
   "execution_count": 461,
   "id": "d5b3f33a-e97e-40bb-a7b3-1cda88033c34",
   "metadata": {},
   "outputs": [
    {
     "data": {
      "text/plain": [
       "City\n",
       "Chicago          35.0\n",
       "New York         27.5\n",
       "San Francisco    30.0\n",
       "Name: Age, dtype: float64"
      ]
     },
     "execution_count": 461,
     "metadata": {},
     "output_type": "execute_result"
    }
   ],
   "source": [
    "data2={\"Name\":[\"Alice\",\"Bob\",\"Charlie\",\"Akram\"],\"Age\":[25,30,35,30],\"City\":[\"New York\",\"San Francisco\",\"Chicago\",\"New York\"]}\n",
    "df_3=pd.DataFrame(data2)\n",
    "\n",
    "def group_by_city(df):\n",
    "    df_output=df.groupby(\"City\")[\"Age\"].mean()\n",
    "    return df_output\n",
    "\n",
    "group_by_city(df_3)\n",
    "    \n",
    "    \n",
    "    "
   ]
  },
  {
   "cell_type": "markdown",
   "id": "9c591b98-4463-4221-9bf4-afcfc30e7fb3",
   "metadata": {},
   "source": [
    " **Question 38**  \n",
    " Write a function add_income_column(df, income_list) that takes a DataFrame and a list of\n",
    " incomes as arguments.\n",
    " The function should add a new column named Income to the DataFrame using the provided list."
   ]
  },
  {
   "cell_type": "code",
   "execution_count": 463,
   "id": "e93dbfbb-b517-40ad-a13d-eab4536c1c1d",
   "metadata": {},
   "outputs": [
    {
     "data": {
      "text/html": [
       "<div>\n",
       "<style scoped>\n",
       "    .dataframe tbody tr th:only-of-type {\n",
       "        vertical-align: middle;\n",
       "    }\n",
       "\n",
       "    .dataframe tbody tr th {\n",
       "        vertical-align: top;\n",
       "    }\n",
       "\n",
       "    .dataframe thead th {\n",
       "        text-align: right;\n",
       "    }\n",
       "</style>\n",
       "<table border=\"1\" class=\"dataframe\">\n",
       "  <thead>\n",
       "    <tr style=\"text-align: right;\">\n",
       "      <th></th>\n",
       "      <th>Name</th>\n",
       "      <th>Age</th>\n",
       "      <th>City</th>\n",
       "      <th>Income</th>\n",
       "    </tr>\n",
       "  </thead>\n",
       "  <tbody>\n",
       "    <tr>\n",
       "      <th>0</th>\n",
       "      <td>Alice</td>\n",
       "      <td>25</td>\n",
       "      <td>New York</td>\n",
       "      <td>100</td>\n",
       "    </tr>\n",
       "    <tr>\n",
       "      <th>1</th>\n",
       "      <td>Bob</td>\n",
       "      <td>30</td>\n",
       "      <td>San Francisco</td>\n",
       "      <td>200</td>\n",
       "    </tr>\n",
       "    <tr>\n",
       "      <th>2</th>\n",
       "      <td>Charlie</td>\n",
       "      <td>35</td>\n",
       "      <td>Chicago</td>\n",
       "      <td>300</td>\n",
       "    </tr>\n",
       "    <tr>\n",
       "      <th>3</th>\n",
       "      <td>Akram</td>\n",
       "      <td>30</td>\n",
       "      <td>New York</td>\n",
       "      <td>400</td>\n",
       "    </tr>\n",
       "  </tbody>\n",
       "</table>\n",
       "</div>"
      ],
      "text/plain": [
       "      Name  Age           City  Income\n",
       "0    Alice   25       New York     100\n",
       "1      Bob   30  San Francisco     200\n",
       "2  Charlie   35        Chicago     300\n",
       "3    Akram   30       New York     400"
      ]
     },
     "execution_count": 463,
     "metadata": {},
     "output_type": "execute_result"
    }
   ],
   "source": [
    "def add_income_column(df,income_list):\n",
    "    df[\"Income\"]=income_list\n",
    "    return df\n",
    "\n",
    "\n",
    "income_list=[100,200,300,400]\n",
    "add_income_column(df_3,income_list)"
   ]
  },
  {
   "cell_type": "markdown",
   "id": "fb1394dc-6d10-4408-9c04-adb58bb7283c",
   "metadata": {},
   "source": [
    "**Question 39**  \n",
    " Write a function create_array() that creates and returns a 2D NumPy array with the following\n",
    " data:  \n",
    " [[1, 2, 3],  \n",
    " [4, 5, 6],  \n",
    " [7, 8, 9]]"
   ]
  },
  {
   "cell_type": "code",
   "execution_count": 471,
   "id": "a968fd26-ae09-437d-bea9-c31ecc262471",
   "metadata": {},
   "outputs": [
    {
     "name": "stdout",
     "output_type": "stream",
     "text": [
      "[[1 2 3]\n",
      " [4 5 6]\n",
      " [7 8 9]]\n"
     ]
    }
   ],
   "source": [
    "import numpy as np\n",
    "def create_array():\n",
    "    list_input=[[1,2,3],[4,5,6],[7,8,9]]\n",
    "    array_output=np.array(list_input)\n",
    "    return array_output\n",
    "\n",
    "array_new=create_array()\n",
    "print(array_new)\n",
    "    "
   ]
  },
  {
   "cell_type": "markdown",
   "id": "905ca9de-41a6-419f-b08b-e0b855551fec",
   "metadata": {},
   "source": [
    " **Question 40**  \n",
    " Write a function square_elements(arr) that takes a NumPy array as input and returns a new\n",
    " array with each element squared."
   ]
  },
  {
   "cell_type": "code",
   "execution_count": 472,
   "id": "853e27ae-1a7a-4032-b159-237372997c68",
   "metadata": {},
   "outputs": [
    {
     "data": {
      "text/plain": [
       "array([[ 1,  4,  9],\n",
       "       [16, 25, 36],\n",
       "       [49, 64, 81]])"
      ]
     },
     "execution_count": 472,
     "metadata": {},
     "output_type": "execute_result"
    }
   ],
   "source": [
    "def square_elements(arr):\n",
    "    sq_array=arr**2\n",
    "    return sq_array\n",
    "\n",
    "square_elements(array_new)"
   ]
  },
  {
   "cell_type": "markdown",
   "id": "c8515cce-20d4-461b-a58f-4ed69102dd7f",
   "metadata": {},
   "source": [
    " **Question 41**  \n",
    " Write a function find_max(arr) that takes a NumPy array as input and returns the maximum\n",
    " value in the array."
   ]
  },
  {
   "cell_type": "code",
   "execution_count": 494,
   "id": "8707a1d0-1460-49c0-9670-bc0fe026fd68",
   "metadata": {},
   "outputs": [
    {
     "data": {
      "text/plain": [
       "np.int64(9)"
      ]
     },
     "execution_count": 494,
     "metadata": {},
     "output_type": "execute_result"
    }
   ],
   "source": [
    "def find_max(arr):\n",
    "    max_val=arr.max()\n",
    "    return max_val\n",
    "\n",
    "find_max(array_new)\n"
   ]
  },
  {
   "cell_type": "markdown",
   "id": "cadfd263-d892-4830-9ff2-c0ba623c569e",
   "metadata": {},
   "source": [
    " **Question 42**  \n",
    " Write a function matrix_multiply(arr1, arr2) that takes two 2D NumPy arrays as input and returns\n",
    " their matrix product."
   ]
  },
  {
   "cell_type": "code",
   "execution_count": 490,
   "id": "becef7bd-af5e-4dfb-8d48-89bf5b909cd1",
   "metadata": {},
   "outputs": [
    {
     "data": {
      "text/plain": [
       "array([[30, 36, 42],\n",
       "       [66, 81, 96]])"
      ]
     },
     "execution_count": 490,
     "metadata": {},
     "output_type": "execute_result"
    }
   ],
   "source": [
    "arr1=np.array([[1,2,3],[4,5,6]])\n",
    "arr2=np.array([[1,2,3],[4,5,6],[7,8,9]])\n",
    "\n",
    "def matrix_multiply(arr1,arr2):\n",
    "    matrix_product=np.matmul(arr1,arr2)\n",
    "    return matrix_product\n",
    "\n",
    "matrix_multiply(arr1,arr2)"
   ]
  },
  {
   "cell_type": "markdown",
   "id": "bfe14a70-c6b2-4b29-b2f2-208688f57a06",
   "metadata": {},
   "source": [
    " **Question 43**  \n",
    " Write a function array_mean(arr) that takes a NumPy array as input and returns the mean of all\n",
    " elements in the array"
   ]
  },
  {
   "cell_type": "code",
   "execution_count": 493,
   "id": "18cef650-e8a1-4ceb-b161-c2b6ea163910",
   "metadata": {},
   "outputs": [
    {
     "name": "stdout",
     "output_type": "stream",
     "text": [
      "[[1 2 3]\n",
      " [4 5 6]\n",
      " [7 8 9]]\n"
     ]
    },
    {
     "data": {
      "text/plain": [
       "np.float64(5.0)"
      ]
     },
     "execution_count": 493,
     "metadata": {},
     "output_type": "execute_result"
    }
   ],
   "source": [
    "print(array_new)\n",
    "def array_mean(arr):\n",
    "    return arr.mean()\n",
    "\n",
    "array_mean(array_new)"
   ]
  },
  {
   "cell_type": "code",
   "execution_count": null,
   "id": "65999bfb-7d16-415c-9152-7887b6beb6e3",
   "metadata": {},
   "outputs": [],
   "source": []
  }
 ],
 "metadata": {
  "kernelspec": {
   "display_name": "Python 3 (ipykernel)",
   "language": "python",
   "name": "python3"
  },
  "language_info": {
   "codemirror_mode": {
    "name": "ipython",
    "version": 3
   },
   "file_extension": ".py",
   "mimetype": "text/x-python",
   "name": "python",
   "nbconvert_exporter": "python",
   "pygments_lexer": "ipython3",
   "version": "3.10.15"
  }
 },
 "nbformat": 4,
 "nbformat_minor": 5
}
