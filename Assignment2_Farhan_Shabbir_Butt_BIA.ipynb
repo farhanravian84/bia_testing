{
 "cells": [
  {
   "cell_type": "markdown",
   "id": "506654d1-b4a5-4b25-b2d1-d54b1afb36f3",
   "metadata": {},
   "source": [
    " **Question 1**  \n",
    " Apply a Function to Convert a Column to Uppercase\n",
    " Question: Create a function that takes a DataFrame and converts all strings in a specified\n",
    " column to uppercase using the apply method.\n"
   ]
  },
  {
   "cell_type": "code",
   "execution_count": 8,
   "id": "9fbc6b1c-9cfc-4638-b2fa-96ffc8eed413",
   "metadata": {},
   "outputs": [
    {
     "data": {
      "text/html": [
       "<div>\n",
       "<style scoped>\n",
       "    .dataframe tbody tr th:only-of-type {\n",
       "        vertical-align: middle;\n",
       "    }\n",
       "\n",
       "    .dataframe tbody tr th {\n",
       "        vertical-align: top;\n",
       "    }\n",
       "\n",
       "    .dataframe thead th {\n",
       "        text-align: right;\n",
       "    }\n",
       "</style>\n",
       "<table border=\"1\" class=\"dataframe\">\n",
       "  <thead>\n",
       "    <tr style=\"text-align: right;\">\n",
       "      <th></th>\n",
       "      <th>Name</th>\n",
       "      <th>Age</th>\n",
       "    </tr>\n",
       "  </thead>\n",
       "  <tbody>\n",
       "    <tr>\n",
       "      <th>0</th>\n",
       "      <td>ALICE</td>\n",
       "      <td>25</td>\n",
       "    </tr>\n",
       "    <tr>\n",
       "      <th>1</th>\n",
       "      <td>BOB</td>\n",
       "      <td>30</td>\n",
       "    </tr>\n",
       "    <tr>\n",
       "      <th>2</th>\n",
       "      <td>CHARLIE</td>\n",
       "      <td>35</td>\n",
       "    </tr>\n",
       "  </tbody>\n",
       "</table>\n",
       "</div>"
      ],
      "text/plain": [
       "      Name  Age\n",
       "0    ALICE   25\n",
       "1      BOB   30\n",
       "2  CHARLIE   35"
      ]
     },
     "execution_count": 8,
     "metadata": {},
     "output_type": "execute_result"
    }
   ],
   "source": [
    "import pandas as pd\n",
    "df=pd.DataFrame({\"Name\":[\"Alice\",\"Bob\",\"Charlie\"],\"Age\":[25,30,35]})\n",
    "def col_upper(df,col_name):\n",
    "    df[col_name]=df[col_name].apply(str.upper)\n",
    "    return df\n",
    "col_upper(df,\"Name\")"
   ]
  },
  {
   "cell_type": "markdown",
   "id": "e26a0cd4-36f3-4601-902a-aa3d5eed4131",
   "metadata": {},
   "source": [
    "**Question 2**  \n",
    " Calculate the Mean of Groups  \n",
    " Question: Write a function that groups a DataFrame by a specified column and calculates the\n",
    " mean of another numeric column using groupby"
   ]
  },
  {
   "cell_type": "code",
   "execution_count": 17,
   "id": "de3f1c00-f209-4816-b70b-c2ee2a678ea2",
   "metadata": {},
   "outputs": [
    {
     "data": {
      "text/html": [
       "<div>\n",
       "<style scoped>\n",
       "    .dataframe tbody tr th:only-of-type {\n",
       "        vertical-align: middle;\n",
       "    }\n",
       "\n",
       "    .dataframe tbody tr th {\n",
       "        vertical-align: top;\n",
       "    }\n",
       "\n",
       "    .dataframe thead th {\n",
       "        text-align: right;\n",
       "    }\n",
       "</style>\n",
       "<table border=\"1\" class=\"dataframe\">\n",
       "  <thead>\n",
       "    <tr style=\"text-align: right;\">\n",
       "      <th></th>\n",
       "      <th>Expenses</th>\n",
       "    </tr>\n",
       "    <tr>\n",
       "      <th>Dept</th>\n",
       "      <th></th>\n",
       "    </tr>\n",
       "  </thead>\n",
       "  <tbody>\n",
       "    <tr>\n",
       "      <th>Finance</th>\n",
       "      <td>700.0</td>\n",
       "    </tr>\n",
       "    <tr>\n",
       "      <th>HR</th>\n",
       "      <td>400.0</td>\n",
       "    </tr>\n",
       "    <tr>\n",
       "      <th>IT</th>\n",
       "      <td>200.0</td>\n",
       "    </tr>\n",
       "  </tbody>\n",
       "</table>\n",
       "</div>"
      ],
      "text/plain": [
       "         Expenses\n",
       "Dept             \n",
       "Finance     700.0\n",
       "HR          400.0\n",
       "IT          200.0"
      ]
     },
     "execution_count": 17,
     "metadata": {},
     "output_type": "execute_result"
    }
   ],
   "source": [
    "data={\"Dept\":[\"IT\",\"IT\",\"IT\",\"HR\",\"HR\",\"HR\",\"Finance\",\"Finance\"],\"Expenses\":[100,200,300,400,400,400,600,800]}\n",
    "df=pd.DataFrame(data)\n",
    "def func_groupby(df,col_group,col_mean):\n",
    "    return df.groupby([col_group])[[col_mean]].mean()\n",
    "func_groupby(df,\"Dept\",\"Expenses\")"
   ]
  },
  {
   "cell_type": "markdown",
   "id": "9f34b1c5-907f-469f-82ab-537a38aec805",
   "metadata": {},
   "source": [
    " **Question 3**  \n",
    " Create a function that adds a new column to the DataFrame, calculating the BMI (Body Mass\n",
    " Index) for each row using the apply method.\n",
    " Formula: BMI = weight (kg) / (height (m))²"
   ]
  },
  {
   "cell_type": "code",
   "execution_count": 110,
   "id": "111f1076-8909-4057-bfb3-d43539e45cdf",
   "metadata": {},
   "outputs": [
    {
     "data": {
      "text/html": [
       "<div>\n",
       "<style scoped>\n",
       "    .dataframe tbody tr th:only-of-type {\n",
       "        vertical-align: middle;\n",
       "    }\n",
       "\n",
       "    .dataframe tbody tr th {\n",
       "        vertical-align: top;\n",
       "    }\n",
       "\n",
       "    .dataframe thead th {\n",
       "        text-align: right;\n",
       "    }\n",
       "</style>\n",
       "<table border=\"1\" class=\"dataframe\">\n",
       "  <thead>\n",
       "    <tr style=\"text-align: right;\">\n",
       "      <th></th>\n",
       "      <th>Weight</th>\n",
       "      <th>Height</th>\n",
       "      <th>BMI</th>\n",
       "    </tr>\n",
       "  </thead>\n",
       "  <tbody>\n",
       "    <tr>\n",
       "      <th>0</th>\n",
       "      <td>50</td>\n",
       "      <td>1.6</td>\n",
       "      <td>19.531250</td>\n",
       "    </tr>\n",
       "    <tr>\n",
       "      <th>1</th>\n",
       "      <td>60</td>\n",
       "      <td>1.7</td>\n",
       "      <td>20.761246</td>\n",
       "    </tr>\n",
       "    <tr>\n",
       "      <th>2</th>\n",
       "      <td>70</td>\n",
       "      <td>1.8</td>\n",
       "      <td>21.604938</td>\n",
       "    </tr>\n",
       "  </tbody>\n",
       "</table>\n",
       "</div>"
      ],
      "text/plain": [
       "   Weight  Height        BMI\n",
       "0      50     1.6  19.531250\n",
       "1      60     1.7  20.761246\n",
       "2      70     1.8  21.604938"
      ]
     },
     "execution_count": 110,
     "metadata": {},
     "output_type": "execute_result"
    }
   ],
   "source": [
    "df=pd.DataFrame({\"Weight\":[50,60,70],\"Height\":[1.60,1.70,1.80]})\n",
    "def bmi(df):\n",
    "    return df[\"Weight\"]/(df[\"Height\"]*df[\"Height\"])\n",
    "df[\"BMI\"]=df.apply(lambda x:bmi(x),axis=1)\n",
    "df"
   ]
  },
  {
   "cell_type": "markdown",
   "id": "98b390cd-168d-4d72-a803-8a6642ed2224",
   "metadata": {},
   "source": [
    "**Question 4**  \n",
    " Write a function that groups data by a column and counts the number of rows in each group\n",
    " using groupby."
   ]
  },
  {
   "cell_type": "code",
   "execution_count": 39,
   "id": "a761a094-a025-490f-ba95-114cd1d5360c",
   "metadata": {},
   "outputs": [
    {
     "data": {
      "text/html": [
       "<div>\n",
       "<style scoped>\n",
       "    .dataframe tbody tr th:only-of-type {\n",
       "        vertical-align: middle;\n",
       "    }\n",
       "\n",
       "    .dataframe tbody tr th {\n",
       "        vertical-align: top;\n",
       "    }\n",
       "\n",
       "    .dataframe thead th {\n",
       "        text-align: right;\n",
       "    }\n",
       "</style>\n",
       "<table border=\"1\" class=\"dataframe\">\n",
       "  <thead>\n",
       "    <tr style=\"text-align: right;\">\n",
       "      <th></th>\n",
       "      <th>Dept</th>\n",
       "    </tr>\n",
       "    <tr>\n",
       "      <th>Dept</th>\n",
       "      <th></th>\n",
       "    </tr>\n",
       "  </thead>\n",
       "  <tbody>\n",
       "    <tr>\n",
       "      <th>Finance</th>\n",
       "      <td>2</td>\n",
       "    </tr>\n",
       "    <tr>\n",
       "      <th>HR</th>\n",
       "      <td>3</td>\n",
       "    </tr>\n",
       "    <tr>\n",
       "      <th>IT</th>\n",
       "      <td>3</td>\n",
       "    </tr>\n",
       "  </tbody>\n",
       "</table>\n",
       "</div>"
      ],
      "text/plain": [
       "         Dept\n",
       "Dept         \n",
       "Finance     2\n",
       "HR          3\n",
       "IT          3"
      ]
     },
     "execution_count": 39,
     "metadata": {},
     "output_type": "execute_result"
    }
   ],
   "source": [
    "data={\"Dept\":[\"IT\",\"IT\",\"IT\",\"HR\",\"HR\",\"HR\",\"Finance\",\"Finance\"],\"Expenses\":[100,200,300,400,400,400,600,800]}\n",
    "df=pd.DataFrame(data)\n",
    "def group_count(df,col_name):\n",
    "    return df.groupby([col_name])[[col_name]].count()\n",
    "\n",
    "group_count(df,\"Dept\")\n",
    "            "
   ]
  },
  {
   "cell_type": "markdown",
   "id": "512533bf-9fc5-4d59-8749-6993f9ab0836",
   "metadata": {},
   "source": [
    " **Question 5**  \n",
    " Question: Write a function to create a pivot table summarizing the total sales by region and\n",
    " product."
   ]
  },
  {
   "cell_type": "code",
   "execution_count": 48,
   "id": "c84d1ade-e887-4934-bfe2-34d006c64c07",
   "metadata": {},
   "outputs": [
    {
     "data": {
      "text/html": [
       "<div>\n",
       "<style scoped>\n",
       "    .dataframe tbody tr th:only-of-type {\n",
       "        vertical-align: middle;\n",
       "    }\n",
       "\n",
       "    .dataframe tbody tr th {\n",
       "        vertical-align: top;\n",
       "    }\n",
       "\n",
       "    .dataframe thead tr th {\n",
       "        text-align: left;\n",
       "    }\n",
       "\n",
       "    .dataframe thead tr:last-of-type th {\n",
       "        text-align: right;\n",
       "    }\n",
       "</style>\n",
       "<table border=\"1\" class=\"dataframe\">\n",
       "  <thead>\n",
       "    <tr>\n",
       "      <th></th>\n",
       "      <th colspan=\"2\" halign=\"left\">Sales</th>\n",
       "    </tr>\n",
       "    <tr>\n",
       "      <th>Product</th>\n",
       "      <th>A</th>\n",
       "      <th>B</th>\n",
       "    </tr>\n",
       "    <tr>\n",
       "      <th>Region</th>\n",
       "      <th></th>\n",
       "      <th></th>\n",
       "    </tr>\n",
       "  </thead>\n",
       "  <tbody>\n",
       "    <tr>\n",
       "      <th>East</th>\n",
       "      <td>250.0</td>\n",
       "      <td>NaN</td>\n",
       "    </tr>\n",
       "    <tr>\n",
       "      <th>West</th>\n",
       "      <td>NaN</td>\n",
       "      <td>500.0</td>\n",
       "    </tr>\n",
       "  </tbody>\n",
       "</table>\n",
       "</div>"
      ],
      "text/plain": [
       "         Sales       \n",
       "Product      A      B\n",
       "Region               \n",
       "East     250.0    NaN\n",
       "West       NaN  500.0"
      ]
     },
     "execution_count": 48,
     "metadata": {},
     "output_type": "execute_result"
    }
   ],
   "source": [
    "df=pd.DataFrame({\"Region\":[\"East\",\"West\",\"East\",\"West\"],\"Product\":[\"A\",\"B\",\"A\",\"B\"],\"Sales\":[100,200,150,300]})\n",
    "pd.pivot_table(df,values=[\"Sales\"],index=[\"Region\"],columns=[\"Product\"],aggfunc=\"sum\")"
   ]
  },
  {
   "cell_type": "markdown",
   "id": "0fa67f44-9db3-4260-8046-b3818db9511d",
   "metadata": {},
   "source": [
    "**Question 6**  \n",
    " Write a function to normalize an array so that its values range between 0 and 1."
   ]
  },
  {
   "cell_type": "code",
   "execution_count": 75,
   "id": "15520bad-3f55-48b2-bacb-fd3c5c637c06",
   "metadata": {},
   "outputs": [
    {
     "name": "stdout",
     "output_type": "stream",
     "text": [
      "[ 10  20  30  40  50  60  70  80  90 100]\n",
      "[0.         0.11111111 0.22222222 0.33333333 0.44444444 0.55555556\n",
      " 0.66666667 0.77777778 0.88888889 1.        ]\n"
     ]
    }
   ],
   "source": [
    "import numpy as np\n",
    "array=np.arange(10,110,10)\n",
    "print(array)\n",
    "# norm=np.linalg.norm(array)\n",
    "# print(norm)\n",
    "# normalized_array=array/norm\n",
    "# normalized_array\n",
    "def normalize(array):\n",
    "    norm_array=[]\n",
    "    #formula for normalized array between 0 and 1 is (x-min_value)/(max_value-min_value)\n",
    "    diff_arr=max(array)-min(array)\n",
    "    for i in array:\n",
    "        temp=(i-min(array))/diff_arr\n",
    "        norm_array.append(temp)\n",
    "    return np.array(norm_array)\n",
    "\n",
    "norm_array=normalize(array)\n",
    "print(norm_array)\n",
    "\n"
   ]
  },
  {
   "cell_type": "markdown",
   "id": "dd68edae-30cb-4f43-8f06-d5224049f755",
   "metadata": {},
   "source": [
    " **Question 7**  \n",
    " Write a function that computes the dot product of two 2D arrays."
   ]
  },
  {
   "cell_type": "code",
   "execution_count": 83,
   "id": "3e6e1747-8003-4ec8-8b1a-8573a660995d",
   "metadata": {},
   "outputs": [
    {
     "data": {
      "text/plain": [
       "array([[19, 22],\n",
       "       [43, 50]])"
      ]
     },
     "execution_count": 83,
     "metadata": {},
     "output_type": "execute_result"
    }
   ],
   "source": [
    "array1=np.array([[1,2],[3,4]])\n",
    "array2=np.array([[5,6],[7,8]])\n",
    "def dot_product(array1,array2):\n",
    "    dot_prod=np.dot(array1,array2)\n",
    "    return dot_prod\n",
    "dot_product(array1,array2)"
   ]
  },
  {
   "cell_type": "markdown",
   "id": "862d6a54-027d-4002-ae1a-cacec02814b8",
   "metadata": {},
   "source": [
    "**Question 8**  \n",
    " Write a function that replaces all negative values in a NumPy array with zero."
   ]
  },
  {
   "cell_type": "code",
   "execution_count": 89,
   "id": "387b64a8-c940-4ea9-b70b-d290190cc317",
   "metadata": {},
   "outputs": [
    {
     "data": {
      "text/plain": [
       "array([[0, 0],\n",
       "       [0, 4]])"
      ]
     },
     "execution_count": 89,
     "metadata": {},
     "output_type": "execute_result"
    }
   ],
   "source": [
    "array=np.array([[-1,-2],[-3,4]])\n",
    "def replace_neg(array):\n",
    "    array[array<0]=0\n",
    "    return array\n",
    "\n",
    "replace_neg(array)"
   ]
  },
  {
   "cell_type": "markdown",
   "id": "5c22c317-f9ab-4d93-a01a-b68f289f1063",
   "metadata": {},
   "source": [
    "**Question 9**  \n",
    " Create a function that takes two 1D NumPy arrays and stacks them vertically"
   ]
  },
  {
   "cell_type": "code",
   "execution_count": 97,
   "id": "9b3f4051-f04b-4636-ac58-96fdf3aa99d5",
   "metadata": {},
   "outputs": [
    {
     "data": {
      "text/plain": [
       "array([[1, 2],\n",
       "       [3, 4]])"
      ]
     },
     "execution_count": 97,
     "metadata": {},
     "output_type": "execute_result"
    }
   ],
   "source": [
    "array1=np.array([1,2])\n",
    "array2=np.array([3,4])\n",
    "def stack_vertically(array1,array2):\n",
    "    new_array=np.vstack((array1,array2))\n",
    "    return new_array\n",
    "stack_vertically(array1,array2)"
   ]
  },
  {
   "cell_type": "markdown",
   "id": "20e6c2ad-e18c-45d0-901b-1540fdc15a48",
   "metadata": {},
   "source": [
    " **Question 10**  \n",
    " Write a function that computes the length of strings in a column using the apply method."
   ]
  },
  {
   "cell_type": "code",
   "execution_count": 108,
   "id": "5e2e6f42-e81d-4dd1-8320-62b03e362c0f",
   "metadata": {},
   "outputs": [
    {
     "data": {
      "text/html": [
       "<div>\n",
       "<style scoped>\n",
       "    .dataframe tbody tr th:only-of-type {\n",
       "        vertical-align: middle;\n",
       "    }\n",
       "\n",
       "    .dataframe tbody tr th {\n",
       "        vertical-align: top;\n",
       "    }\n",
       "\n",
       "    .dataframe thead th {\n",
       "        text-align: right;\n",
       "    }\n",
       "</style>\n",
       "<table border=\"1\" class=\"dataframe\">\n",
       "  <thead>\n",
       "    <tr style=\"text-align: right;\">\n",
       "      <th></th>\n",
       "      <th>Name</th>\n",
       "      <th>Age</th>\n",
       "      <th>Name_Length</th>\n",
       "    </tr>\n",
       "  </thead>\n",
       "  <tbody>\n",
       "    <tr>\n",
       "      <th>0</th>\n",
       "      <td>Alice</td>\n",
       "      <td>25</td>\n",
       "      <td>5</td>\n",
       "    </tr>\n",
       "    <tr>\n",
       "      <th>1</th>\n",
       "      <td>Bob</td>\n",
       "      <td>30</td>\n",
       "      <td>3</td>\n",
       "    </tr>\n",
       "    <tr>\n",
       "      <th>2</th>\n",
       "      <td>Charlie</td>\n",
       "      <td>35</td>\n",
       "      <td>7</td>\n",
       "    </tr>\n",
       "  </tbody>\n",
       "</table>\n",
       "</div>"
      ],
      "text/plain": [
       "      Name  Age  Name_Length\n",
       "0    Alice   25            5\n",
       "1      Bob   30            3\n",
       "2  Charlie   35            7"
      ]
     },
     "execution_count": 108,
     "metadata": {},
     "output_type": "execute_result"
    }
   ],
   "source": [
    "df=pd.DataFrame({\"Name\":[\"Alice\",\"Bob\",\"Charlie\"],\"Age\":[25,30,35]})\n",
    "def col_length(df,col_name):\n",
    "    df[\"Name_Length\"]=df[col_name].apply(len)\n",
    "    return df\n",
    "col_length(df,\"Name\")"
   ]
  },
  {
   "cell_type": "code",
   "execution_count": 109,
   "id": "1fc2e711-4f69-4f2b-b4e1-ee41a6ed37ee",
   "metadata": {},
   "outputs": [
    {
     "data": {
      "text/html": [
       "<div>\n",
       "<style scoped>\n",
       "    .dataframe tbody tr th:only-of-type {\n",
       "        vertical-align: middle;\n",
       "    }\n",
       "\n",
       "    .dataframe tbody tr th {\n",
       "        vertical-align: top;\n",
       "    }\n",
       "\n",
       "    .dataframe thead th {\n",
       "        text-align: right;\n",
       "    }\n",
       "</style>\n",
       "<table border=\"1\" class=\"dataframe\">\n",
       "  <thead>\n",
       "    <tr style=\"text-align: right;\">\n",
       "      <th></th>\n",
       "      <th>Name</th>\n",
       "      <th>Age</th>\n",
       "      <th>Name_Length</th>\n",
       "    </tr>\n",
       "  </thead>\n",
       "  <tbody>\n",
       "    <tr>\n",
       "      <th>0</th>\n",
       "      <td>Alice</td>\n",
       "      <td>25</td>\n",
       "      <td>5</td>\n",
       "    </tr>\n",
       "    <tr>\n",
       "      <th>1</th>\n",
       "      <td>Bob</td>\n",
       "      <td>30</td>\n",
       "      <td>3</td>\n",
       "    </tr>\n",
       "    <tr>\n",
       "      <th>2</th>\n",
       "      <td>Charlie</td>\n",
       "      <td>35</td>\n",
       "      <td>7</td>\n",
       "    </tr>\n",
       "  </tbody>\n",
       "</table>\n",
       "</div>"
      ],
      "text/plain": [
       "      Name  Age  Name_Length\n",
       "0    Alice   25            5\n",
       "1      Bob   30            3\n",
       "2  Charlie   35            7"
      ]
     },
     "execution_count": 109,
     "metadata": {},
     "output_type": "execute_result"
    }
   ],
   "source": [
    "df=pd.DataFrame({\"Name\":[\"Alice\",\"Bob\",\"Charlie\"],\"Age\":[25,30,35]})\n",
    "def col_len(string):\n",
    "    x=len(string)\n",
    "    return x\n",
    "df[\"Name_Length\"]=df[\"Name\"].apply(lambda x:col_len(x))\n",
    "df"
   ]
  },
  {
   "cell_type": "markdown",
   "id": "17d72c97-8694-4522-8826-e5107fd741b9",
   "metadata": {},
   "source": [
    " **Question 11**  \n",
    " Write a function that groups a DataFrame by a specified column and calculates the maximum\n",
    " value of another column.\n"
   ]
  },
  {
   "cell_type": "code",
   "execution_count": 2,
   "id": "ddb35cb6-0243-4e0e-8249-17955bca6417",
   "metadata": {},
   "outputs": [
    {
     "data": {
      "text/html": [
       "<div>\n",
       "<style scoped>\n",
       "    .dataframe tbody tr th:only-of-type {\n",
       "        vertical-align: middle;\n",
       "    }\n",
       "\n",
       "    .dataframe tbody tr th {\n",
       "        vertical-align: top;\n",
       "    }\n",
       "\n",
       "    .dataframe thead th {\n",
       "        text-align: right;\n",
       "    }\n",
       "</style>\n",
       "<table border=\"1\" class=\"dataframe\">\n",
       "  <thead>\n",
       "    <tr style=\"text-align: right;\">\n",
       "      <th></th>\n",
       "      <th>Expenses</th>\n",
       "    </tr>\n",
       "    <tr>\n",
       "      <th>Dept</th>\n",
       "      <th></th>\n",
       "    </tr>\n",
       "  </thead>\n",
       "  <tbody>\n",
       "    <tr>\n",
       "      <th>Finance</th>\n",
       "      <td>800</td>\n",
       "    </tr>\n",
       "    <tr>\n",
       "      <th>HR</th>\n",
       "      <td>400</td>\n",
       "    </tr>\n",
       "    <tr>\n",
       "      <th>IT</th>\n",
       "      <td>300</td>\n",
       "    </tr>\n",
       "  </tbody>\n",
       "</table>\n",
       "</div>"
      ],
      "text/plain": [
       "         Expenses\n",
       "Dept             \n",
       "Finance       800\n",
       "HR            400\n",
       "IT            300"
      ]
     },
     "execution_count": 2,
     "metadata": {},
     "output_type": "execute_result"
    }
   ],
   "source": [
    "import pandas as pd\n",
    "data={\"Dept\":[\"IT\",\"IT\",\"IT\",\"HR\",\"HR\",\"HR\",\"Finance\",\"Finance\"],\"Expenses\":[100,200,300,400,400,400,600,800]}\n",
    "df2=pd.DataFrame(data)\n",
    "def func_groupby2(df2,col_group,col_max):\n",
    "    return df2.groupby([col_group])[[col_max]].max()\n",
    "func_groupby2(df2,\"Dept\",\"Expenses\")"
   ]
  },
  {
   "cell_type": "markdown",
   "id": "c51a3bfb-a834-4841-8a0c-2b6ccdaaee74",
   "metadata": {},
   "source": [
    "**Question 12**  \n",
    " Write a function that filters rows where the value in a specified column exceeds a given\n",
    " threshold."
   ]
  },
  {
   "cell_type": "code",
   "execution_count": 6,
   "id": "6d761c57-a819-4432-94d9-c4774f996fc4",
   "metadata": {},
   "outputs": [
    {
     "data": {
      "text/html": [
       "<div>\n",
       "<style scoped>\n",
       "    .dataframe tbody tr th:only-of-type {\n",
       "        vertical-align: middle;\n",
       "    }\n",
       "\n",
       "    .dataframe tbody tr th {\n",
       "        vertical-align: top;\n",
       "    }\n",
       "\n",
       "    .dataframe thead th {\n",
       "        text-align: right;\n",
       "    }\n",
       "</style>\n",
       "<table border=\"1\" class=\"dataframe\">\n",
       "  <thead>\n",
       "    <tr style=\"text-align: right;\">\n",
       "      <th></th>\n",
       "      <th>Dept</th>\n",
       "      <th>Expenses</th>\n",
       "    </tr>\n",
       "  </thead>\n",
       "  <tbody>\n",
       "    <tr>\n",
       "      <th>6</th>\n",
       "      <td>Finance</td>\n",
       "      <td>600</td>\n",
       "    </tr>\n",
       "    <tr>\n",
       "      <th>7</th>\n",
       "      <td>Finance</td>\n",
       "      <td>800</td>\n",
       "    </tr>\n",
       "  </tbody>\n",
       "</table>\n",
       "</div>"
      ],
      "text/plain": [
       "      Dept  Expenses\n",
       "6  Finance       600\n",
       "7  Finance       800"
      ]
     },
     "execution_count": 6,
     "metadata": {},
     "output_type": "execute_result"
    }
   ],
   "source": [
    "data={\"Dept\":[\"IT\",\"IT\",\"IT\",\"HR\",\"HR\",\"HR\",\"Finance\",\"Finance\"],\"Expenses\":[100,200,300,400,400,400,600,800]}\n",
    "df3=pd.DataFrame(data)\n",
    "def filter_col(df,col_name,criteria):\n",
    "    return df[df[col_name]>criteria]\n",
    "filter_col(df3,\"Expenses\",400)"
   ]
  },
  {
   "cell_type": "markdown",
   "id": "d9bd2e2d-77a8-4ff0-8c65-ccc3c37d527d",
   "metadata": {},
   "source": [
    "**Question 13**  \n",
    " Write a function that computes the mean and sum of a column for each group"
   ]
  },
  {
   "cell_type": "code",
   "execution_count": 19,
   "id": "8fbb01ea-94bf-4ed6-bf72-66a946c64307",
   "metadata": {},
   "outputs": [
    {
     "data": {
      "text/html": [
       "<div>\n",
       "<style scoped>\n",
       "    .dataframe tbody tr th:only-of-type {\n",
       "        vertical-align: middle;\n",
       "    }\n",
       "\n",
       "    .dataframe tbody tr th {\n",
       "        vertical-align: top;\n",
       "    }\n",
       "\n",
       "    .dataframe thead tr th {\n",
       "        text-align: left;\n",
       "    }\n",
       "\n",
       "    .dataframe thead tr:last-of-type th {\n",
       "        text-align: right;\n",
       "    }\n",
       "</style>\n",
       "<table border=\"1\" class=\"dataframe\">\n",
       "  <thead>\n",
       "    <tr>\n",
       "      <th></th>\n",
       "      <th colspan=\"2\" halign=\"left\">Expenses</th>\n",
       "    </tr>\n",
       "    <tr>\n",
       "      <th></th>\n",
       "      <th>mean</th>\n",
       "      <th>sum</th>\n",
       "    </tr>\n",
       "    <tr>\n",
       "      <th>Dept</th>\n",
       "      <th></th>\n",
       "      <th></th>\n",
       "    </tr>\n",
       "  </thead>\n",
       "  <tbody>\n",
       "    <tr>\n",
       "      <th>Finance</th>\n",
       "      <td>700.0</td>\n",
       "      <td>1400</td>\n",
       "    </tr>\n",
       "    <tr>\n",
       "      <th>HR</th>\n",
       "      <td>400.0</td>\n",
       "      <td>1200</td>\n",
       "    </tr>\n",
       "    <tr>\n",
       "      <th>IT</th>\n",
       "      <td>200.0</td>\n",
       "      <td>600</td>\n",
       "    </tr>\n",
       "  </tbody>\n",
       "</table>\n",
       "</div>"
      ],
      "text/plain": [
       "        Expenses      \n",
       "            mean   sum\n",
       "Dept                  \n",
       "Finance    700.0  1400\n",
       "HR         400.0  1200\n",
       "IT         200.0   600"
      ]
     },
     "execution_count": 19,
     "metadata": {},
     "output_type": "execute_result"
    }
   ],
   "source": [
    "data={\"Dept\":[\"IT\",\"IT\",\"IT\",\"HR\",\"HR\",\"HR\",\"Finance\",\"Finance\"],\"Expenses\":[100,200,300,400,400,400,600,800]}\n",
    "df4=pd.DataFrame(data)\n",
    "def mean_sum(df,group_by,agg_col):\n",
    "    return df.groupby([group_by])[[agg_col]].agg([\"mean\",\"sum\"])\n",
    "mean_sum(df4,\"Dept\",\"Expenses\")"
   ]
  },
  {
   "cell_type": "markdown",
   "id": "5e8270e4-347d-43dd-b405-97aea00e108e",
   "metadata": {},
   "source": [
    "**Question 14**  \n",
    " Create a function that replaces missing values in a specified column with the column's mean.\n"
   ]
  },
  {
   "cell_type": "code",
   "execution_count": 16,
   "id": "b046bbd1-5f8f-4549-b5e9-5ee9fcec983e",
   "metadata": {},
   "outputs": [
    {
     "data": {
      "text/html": [
       "<div>\n",
       "<style scoped>\n",
       "    .dataframe tbody tr th:only-of-type {\n",
       "        vertical-align: middle;\n",
       "    }\n",
       "\n",
       "    .dataframe tbody tr th {\n",
       "        vertical-align: top;\n",
       "    }\n",
       "\n",
       "    .dataframe thead th {\n",
       "        text-align: right;\n",
       "    }\n",
       "</style>\n",
       "<table border=\"1\" class=\"dataframe\">\n",
       "  <thead>\n",
       "    <tr style=\"text-align: right;\">\n",
       "      <th></th>\n",
       "      <th>Values</th>\n",
       "    </tr>\n",
       "  </thead>\n",
       "  <tbody>\n",
       "    <tr>\n",
       "      <th>0</th>\n",
       "      <td>1.000000</td>\n",
       "    </tr>\n",
       "    <tr>\n",
       "      <th>1</th>\n",
       "      <td>2.000000</td>\n",
       "    </tr>\n",
       "    <tr>\n",
       "      <th>2</th>\n",
       "      <td>2.333333</td>\n",
       "    </tr>\n",
       "    <tr>\n",
       "      <th>3</th>\n",
       "      <td>4.000000</td>\n",
       "    </tr>\n",
       "    <tr>\n",
       "      <th>4</th>\n",
       "      <td>2.333333</td>\n",
       "    </tr>\n",
       "  </tbody>\n",
       "</table>\n",
       "</div>"
      ],
      "text/plain": [
       "     Values\n",
       "0  1.000000\n",
       "1  2.000000\n",
       "2  2.333333\n",
       "3  4.000000\n",
       "4  2.333333"
      ]
     },
     "execution_count": 16,
     "metadata": {},
     "output_type": "execute_result"
    }
   ],
   "source": [
    "df=pd.DataFrame({\"Values\":[1,2,None,4,None]})\n",
    "\n",
    "def fill_na(df,col_name):\n",
    "    df[col_name]=df[col_name].fillna(df[col_name].mean())\n",
    "    return df\n",
    "fill_na(df,\"Values\")\n"
   ]
  },
  {
   "cell_type": "markdown",
   "id": "f00f3264-5c28-4fac-9a54-1ba426b01190",
   "metadata": {},
   "source": [
    "**Question 15**  \n",
    " Write a function that ranks values within groups using the rank method."
   ]
  },
  {
   "cell_type": "code",
   "execution_count": 28,
   "id": "62fdeeae-1601-4bae-8cc3-5649a7cd9566",
   "metadata": {},
   "outputs": [
    {
     "data": {
      "text/html": [
       "<div>\n",
       "<style scoped>\n",
       "    .dataframe tbody tr th:only-of-type {\n",
       "        vertical-align: middle;\n",
       "    }\n",
       "\n",
       "    .dataframe tbody tr th {\n",
       "        vertical-align: top;\n",
       "    }\n",
       "\n",
       "    .dataframe thead th {\n",
       "        text-align: right;\n",
       "    }\n",
       "</style>\n",
       "<table border=\"1\" class=\"dataframe\">\n",
       "  <thead>\n",
       "    <tr style=\"text-align: right;\">\n",
       "      <th></th>\n",
       "      <th>Group</th>\n",
       "      <th>Value</th>\n",
       "      <th>Rank</th>\n",
       "    </tr>\n",
       "  </thead>\n",
       "  <tbody>\n",
       "    <tr>\n",
       "      <th>0</th>\n",
       "      <td>A</td>\n",
       "      <td>10</td>\n",
       "      <td>1.0</td>\n",
       "    </tr>\n",
       "    <tr>\n",
       "      <th>1</th>\n",
       "      <td>A</td>\n",
       "      <td>20</td>\n",
       "      <td>2.0</td>\n",
       "    </tr>\n",
       "    <tr>\n",
       "      <th>2</th>\n",
       "      <td>B</td>\n",
       "      <td>15</td>\n",
       "      <td>1.0</td>\n",
       "    </tr>\n",
       "    <tr>\n",
       "      <th>3</th>\n",
       "      <td>B</td>\n",
       "      <td>25</td>\n",
       "      <td>2.0</td>\n",
       "    </tr>\n",
       "  </tbody>\n",
       "</table>\n",
       "</div>"
      ],
      "text/plain": [
       "  Group  Value  Rank\n",
       "0     A     10   1.0\n",
       "1     A     20   2.0\n",
       "2     B     15   1.0\n",
       "3     B     25   2.0"
      ]
     },
     "execution_count": 28,
     "metadata": {},
     "output_type": "execute_result"
    }
   ],
   "source": [
    "df=pd.DataFrame({\"Group\":[\"A\",\"A\",\"B\",\"B\"],\"Value\":[10,20,15,25]})\n",
    "def rank_col(df,col_group,col_rank):\n",
    "    df[\"Rank\"]=df.groupby([col_group])[col_rank].rank()\n",
    "    return df\n",
    "rank_col(df,\"Group\",\"Value\")"
   ]
  },
  {
   "cell_type": "markdown",
   "id": "4032facf-b62f-46cf-9bfb-e3aaec7511e0",
   "metadata": {},
   "source": [
    " **Question 16**  \n",
    " Write a function to compute the cumulative sum of a column within groups"
   ]
  },
  {
   "cell_type": "code",
   "execution_count": 53,
   "id": "66353d59-6a3f-4e6a-bf11-209c82929ff2",
   "metadata": {},
   "outputs": [
    {
     "data": {
      "text/html": [
       "<div>\n",
       "<style scoped>\n",
       "    .dataframe tbody tr th:only-of-type {\n",
       "        vertical-align: middle;\n",
       "    }\n",
       "\n",
       "    .dataframe tbody tr th {\n",
       "        vertical-align: top;\n",
       "    }\n",
       "\n",
       "    .dataframe thead th {\n",
       "        text-align: right;\n",
       "    }\n",
       "</style>\n",
       "<table border=\"1\" class=\"dataframe\">\n",
       "  <thead>\n",
       "    <tr style=\"text-align: right;\">\n",
       "      <th></th>\n",
       "      <th>Group</th>\n",
       "      <th>Sales</th>\n",
       "      <th>Cumulative_Sum</th>\n",
       "    </tr>\n",
       "  </thead>\n",
       "  <tbody>\n",
       "    <tr>\n",
       "      <th>0</th>\n",
       "      <td>X</td>\n",
       "      <td>100</td>\n",
       "      <td>100</td>\n",
       "    </tr>\n",
       "    <tr>\n",
       "      <th>1</th>\n",
       "      <td>X</td>\n",
       "      <td>200</td>\n",
       "      <td>300</td>\n",
       "    </tr>\n",
       "    <tr>\n",
       "      <th>2</th>\n",
       "      <td>Y</td>\n",
       "      <td>150</td>\n",
       "      <td>150</td>\n",
       "    </tr>\n",
       "    <tr>\n",
       "      <th>3</th>\n",
       "      <td>Y</td>\n",
       "      <td>250</td>\n",
       "      <td>400</td>\n",
       "    </tr>\n",
       "  </tbody>\n",
       "</table>\n",
       "</div>"
      ],
      "text/plain": [
       "  Group  Sales  Cumulative_Sum\n",
       "0     X    100             100\n",
       "1     X    200             300\n",
       "2     Y    150             150\n",
       "3     Y    250             400"
      ]
     },
     "execution_count": 53,
     "metadata": {},
     "output_type": "execute_result"
    }
   ],
   "source": [
    "df=pd.DataFrame({\"Group\":[\"X\",\"X\",\"Y\",\"Y\"],\"Sales\":[100,200,150,250]})\n",
    "# def cumul_sum(df,group_col,sum_col):\n",
    "#     df[\"Cumulative_Sum\"]=df.groupby([group_col])[sum_col].transform(\"sum\")\n",
    "#     return df\n",
    "# cumul_sum(df,\"Group\",\"Sales\")\n",
    "def cumul_sum(df,group_col,sum_col):\n",
    "    df[\"Cumulative_Sum\"]=df.groupby([group_col])[sum_col].cumsum()\n",
    "    return df\n",
    "cumul_sum(df,\"Group\",\"Sales\")"
   ]
  },
  {
   "cell_type": "markdown",
   "id": "8a7fb403-4157-44fd-a5d6-9a77c7a485f8",
   "metadata": {},
   "source": [
    "**Question 17**  \n",
    " Write a function that creates a new column by applying a custom function to an existing column"
   ]
  },
  {
   "cell_type": "code",
   "execution_count": 56,
   "id": "df9828a3-38bb-448e-a809-ca10430bf9f2",
   "metadata": {},
   "outputs": [
    {
     "data": {
      "text/html": [
       "<div>\n",
       "<style scoped>\n",
       "    .dataframe tbody tr th:only-of-type {\n",
       "        vertical-align: middle;\n",
       "    }\n",
       "\n",
       "    .dataframe tbody tr th {\n",
       "        vertical-align: top;\n",
       "    }\n",
       "\n",
       "    .dataframe thead th {\n",
       "        text-align: right;\n",
       "    }\n",
       "</style>\n",
       "<table border=\"1\" class=\"dataframe\">\n",
       "  <thead>\n",
       "    <tr style=\"text-align: right;\">\n",
       "      <th></th>\n",
       "      <th>Items</th>\n",
       "      <th>Quantity</th>\n",
       "      <th>Price</th>\n",
       "      <th>Price_After_Tax</th>\n",
       "    </tr>\n",
       "  </thead>\n",
       "  <tbody>\n",
       "    <tr>\n",
       "      <th>0</th>\n",
       "      <td>A</td>\n",
       "      <td>2</td>\n",
       "      <td>100</td>\n",
       "      <td>116.0</td>\n",
       "    </tr>\n",
       "    <tr>\n",
       "      <th>1</th>\n",
       "      <td>B</td>\n",
       "      <td>1</td>\n",
       "      <td>200</td>\n",
       "      <td>232.0</td>\n",
       "    </tr>\n",
       "    <tr>\n",
       "      <th>2</th>\n",
       "      <td>C</td>\n",
       "      <td>3</td>\n",
       "      <td>300</td>\n",
       "      <td>348.0</td>\n",
       "    </tr>\n",
       "    <tr>\n",
       "      <th>3</th>\n",
       "      <td>D</td>\n",
       "      <td>4</td>\n",
       "      <td>400</td>\n",
       "      <td>464.0</td>\n",
       "    </tr>\n",
       "  </tbody>\n",
       "</table>\n",
       "</div>"
      ],
      "text/plain": [
       "  Items  Quantity  Price  Price_After_Tax\n",
       "0     A         2    100            116.0\n",
       "1     B         1    200            232.0\n",
       "2     C         3    300            348.0\n",
       "3     D         4    400            464.0"
      ]
     },
     "execution_count": 56,
     "metadata": {},
     "output_type": "execute_result"
    }
   ],
   "source": [
    "df=pd.DataFrame({\"Items\":[\"A\",\"B\",\"C\",\"D\"],\"Quantity\":[2,1,3,4],\"Price\":[100,200,300,400]})\n",
    "def cust_func(df,col_name):\n",
    "    df[\"Price_After_Tax\"]=df[col_name]*1.16\n",
    "    return df\n",
    "cust_func(df,\"Price\")"
   ]
  },
  {
   "cell_type": "markdown",
   "id": "eece6e68-ddbf-43bc-8dc6-b4e0d3670794",
   "metadata": {},
   "source": [
    "**Question 18**  \n",
    " Write a function to extract the top N rows within each group based on a column."
   ]
  },
  {
   "cell_type": "code",
   "execution_count": 15,
   "id": "7fb40ff3-15d4-4655-98a7-25af438638a3",
   "metadata": {},
   "outputs": [
    {
     "data": {
      "text/html": [
       "<div>\n",
       "<style scoped>\n",
       "    .dataframe tbody tr th:only-of-type {\n",
       "        vertical-align: middle;\n",
       "    }\n",
       "\n",
       "    .dataframe tbody tr th {\n",
       "        vertical-align: top;\n",
       "    }\n",
       "\n",
       "    .dataframe thead th {\n",
       "        text-align: right;\n",
       "    }\n",
       "</style>\n",
       "<table border=\"1\" class=\"dataframe\">\n",
       "  <thead>\n",
       "    <tr style=\"text-align: right;\">\n",
       "      <th></th>\n",
       "      <th>Group</th>\n",
       "      <th>Value</th>\n",
       "    </tr>\n",
       "  </thead>\n",
       "  <tbody>\n",
       "    <tr>\n",
       "      <th>1</th>\n",
       "      <td>A</td>\n",
       "      <td>20</td>\n",
       "    </tr>\n",
       "    <tr>\n",
       "      <th>3</th>\n",
       "      <td>B</td>\n",
       "      <td>25</td>\n",
       "    </tr>\n",
       "  </tbody>\n",
       "</table>\n",
       "</div>"
      ],
      "text/plain": [
       "  Group  Value\n",
       "1     A     20\n",
       "3     B     25"
      ]
     },
     "execution_count": 15,
     "metadata": {},
     "output_type": "execute_result"
    }
   ],
   "source": [
    "df=pd.DataFrame({\"Group\":[\"A\",\"A\",\"B\",\"B\"],\"Value\":[10,20,15,25]})\n",
    "def top_rows(df,group_col,value_col,top_n):\n",
    "    new_df=df.groupby([group_col])[value_col].nlargest(top_n).reset_index(level=0)\n",
    "    return new_df\n",
    "top_rows(df,\"Group\",\"Value\",1)"
   ]
  },
  {
   "cell_type": "markdown",
   "id": "2330db34-7ff4-4bdc-a362-f474f77b06c4",
   "metadata": {},
   "source": [
    "**Question 19**  \n",
    "Write a function to compute the weighted average of a column within groups."
   ]
  },
  {
   "cell_type": "code",
   "execution_count": 46,
   "id": "18290313-9819-4978-af49-3bad06687ef1",
   "metadata": {},
   "outputs": [
    {
     "data": {
      "text/plain": [
       "Category\n",
       "A    16.666667\n",
       "B    36.666667\n",
       "dtype: float64"
      ]
     },
     "execution_count": 46,
     "metadata": {},
     "output_type": "execute_result"
    }
   ],
   "source": [
    "df=pd.DataFrame({\"Category\":[\"A\",\"A\",\"B\",\"B\"],\"Value\":[10,20,30,40],\"Weight\":[1,2,1,2]})\n",
    "\n",
    "grouped=df.groupby([\"Category\"])\n",
    "def func(grouped):\n",
    "    d = grouped['Value']\n",
    "    w = grouped['Weight']\n",
    "    return (d * w).sum() / w.sum()\n",
    "\n",
    "grouped.apply(func,include_groups=False)\n"
   ]
  },
  {
   "cell_type": "code",
   "execution_count": 48,
   "id": "5dfe494a-8520-4250-9604-ef58505f97a5",
   "metadata": {},
   "outputs": [
    {
     "data": {
      "text/plain": [
       "25.0"
      ]
     },
     "execution_count": 48,
     "metadata": {},
     "output_type": "execute_result"
    }
   ],
   "source": [
    "df[\"Value\"].median()"
   ]
  },
  {
   "cell_type": "code",
   "execution_count": null,
   "id": "dfb179c1-edc5-4ab5-8771-ceb08e009b8b",
   "metadata": {},
   "outputs": [],
   "source": []
  }
 ],
 "metadata": {
  "kernelspec": {
   "display_name": "Python 3 (ipykernel)",
   "language": "python",
   "name": "python3"
  },
  "language_info": {
   "codemirror_mode": {
    "name": "ipython",
    "version": 3
   },
   "file_extension": ".py",
   "mimetype": "text/x-python",
   "name": "python",
   "nbconvert_exporter": "python",
   "pygments_lexer": "ipython3",
   "version": "3.10.15"
  }
 },
 "nbformat": 4,
 "nbformat_minor": 5
}
